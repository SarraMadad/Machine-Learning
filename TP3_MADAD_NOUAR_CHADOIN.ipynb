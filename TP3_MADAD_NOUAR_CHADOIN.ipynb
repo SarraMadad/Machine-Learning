{
 "cells": [
  {
   "cell_type": "code",
   "execution_count": 95,
   "id": "76295b99",
   "metadata": {},
   "outputs": [
    {
     "data": {
      "text/plain": [
       "'\\n                                 TP 3 - Analyse en composantes principales.\\n\\nLe but de ce TP est d’étudier l’influence de la réduction de dimension par analyse en \\ncomposantes principales sur les performances reconnaissance de caractères manuscrits et \\nen compression d’image. Les fonctions en italique sont des fonctions de la bibliothèque \\nsklearn. Vous pouvez facilement trouver des informations détaillées sur ces fonctions.\\n\\n'"
      ]
     },
     "execution_count": 95,
     "metadata": {},
     "output_type": "execute_result"
    }
   ],
   "source": [
    "'''\n",
    "                                 TP 3 - Analyse en composantes principales.\n",
    "\n",
    "Le but de ce TP est d’étudier l’influence de la réduction de dimension par analyse en \n",
    "composantes principales sur les performances reconnaissance de caractères manuscrits et \n",
    "en compression d’image. Les fonctions en italique sont des fonctions de la bibliothèque \n",
    "sklearn. Vous pouvez facilement trouver des informations détaillées sur ces fonctions.\n",
    "\n",
    "'''"
   ]
  },
  {
   "cell_type": "code",
   "execution_count": 1,
   "id": "1123d5fd",
   "metadata": {},
   "outputs": [],
   "source": [
    "'''\n",
    "Analyse de la base de données. \n",
    "\n",
    "'''\n",
    "\n",
    "\n",
    "#on charge la base de données digits et on récupère les données/labels\n",
    "\n",
    "from sklearn import datasets\n",
    "from pylab import *\n",
    "import numpy as np\n",
    "import pandas as pd\n",
    "import matplotlib.pyplot as plt\n",
    "import seaborn as sns\n",
    "from sklearn import neighbors\n",
    "from sklearn.model_selection import train_test_split\n",
    "from sklearn.datasets import load_digits\n",
    "from sklearn import datasets\n",
    "import matplotlib.pyplot as plt\n",
    "\n",
    "digits = load_digits()\n",
    "X = digits.data\n",
    "y = digits.target\n"
   ]
  },
  {
   "cell_type": "code",
   "execution_count": 2,
   "id": "2b9600e3",
   "metadata": {},
   "outputs": [
    {
     "data": {
      "text/plain": [
       "(1797, 64)"
      ]
     },
     "execution_count": 2,
     "metadata": {},
     "output_type": "execute_result"
    }
   ],
   "source": [
    "#dimension des données : 1797 observations pour 64 descriptions\n",
    "#nous sommes donc en 64 dimensions\n",
    "X.shape"
   ]
  },
  {
   "cell_type": "code",
   "execution_count": 3,
   "id": "09ee3849",
   "metadata": {},
   "outputs": [
    {
     "data": {
      "text/html": [
       "<div>\n",
       "<style scoped>\n",
       "    .dataframe tbody tr th:only-of-type {\n",
       "        vertical-align: middle;\n",
       "    }\n",
       "\n",
       "    .dataframe tbody tr th {\n",
       "        vertical-align: top;\n",
       "    }\n",
       "\n",
       "    .dataframe thead th {\n",
       "        text-align: right;\n",
       "    }\n",
       "</style>\n",
       "<table border=\"1\" class=\"dataframe\">\n",
       "  <thead>\n",
       "    <tr style=\"text-align: right;\">\n",
       "      <th></th>\n",
       "      <th>pixel_0_0</th>\n",
       "      <th>pixel_0_1</th>\n",
       "      <th>pixel_0_2</th>\n",
       "      <th>pixel_0_3</th>\n",
       "      <th>pixel_0_4</th>\n",
       "      <th>pixel_0_5</th>\n",
       "      <th>pixel_0_6</th>\n",
       "      <th>pixel_0_7</th>\n",
       "      <th>pixel_1_0</th>\n",
       "      <th>pixel_1_1</th>\n",
       "      <th>...</th>\n",
       "      <th>pixel_6_7</th>\n",
       "      <th>pixel_7_0</th>\n",
       "      <th>pixel_7_1</th>\n",
       "      <th>pixel_7_2</th>\n",
       "      <th>pixel_7_3</th>\n",
       "      <th>pixel_7_4</th>\n",
       "      <th>pixel_7_5</th>\n",
       "      <th>pixel_7_6</th>\n",
       "      <th>pixel_7_7</th>\n",
       "      <th>label</th>\n",
       "    </tr>\n",
       "  </thead>\n",
       "  <tbody>\n",
       "    <tr>\n",
       "      <th>1</th>\n",
       "      <td>0.0</td>\n",
       "      <td>0.0</td>\n",
       "      <td>0.0</td>\n",
       "      <td>12.0</td>\n",
       "      <td>13.0</td>\n",
       "      <td>5.0</td>\n",
       "      <td>0.0</td>\n",
       "      <td>0.0</td>\n",
       "      <td>0.0</td>\n",
       "      <td>0.0</td>\n",
       "      <td>...</td>\n",
       "      <td>0.0</td>\n",
       "      <td>0.0</td>\n",
       "      <td>0.0</td>\n",
       "      <td>0.0</td>\n",
       "      <td>11.0</td>\n",
       "      <td>16.0</td>\n",
       "      <td>10.0</td>\n",
       "      <td>0.0</td>\n",
       "      <td>0.0</td>\n",
       "      <td>1</td>\n",
       "    </tr>\n",
       "    <tr>\n",
       "      <th>11</th>\n",
       "      <td>0.0</td>\n",
       "      <td>0.0</td>\n",
       "      <td>0.0</td>\n",
       "      <td>0.0</td>\n",
       "      <td>14.0</td>\n",
       "      <td>13.0</td>\n",
       "      <td>1.0</td>\n",
       "      <td>0.0</td>\n",
       "      <td>0.0</td>\n",
       "      <td>0.0</td>\n",
       "      <td>...</td>\n",
       "      <td>0.0</td>\n",
       "      <td>0.0</td>\n",
       "      <td>0.0</td>\n",
       "      <td>0.0</td>\n",
       "      <td>1.0</td>\n",
       "      <td>13.0</td>\n",
       "      <td>16.0</td>\n",
       "      <td>1.0</td>\n",
       "      <td>0.0</td>\n",
       "      <td>1</td>\n",
       "    </tr>\n",
       "    <tr>\n",
       "      <th>21</th>\n",
       "      <td>0.0</td>\n",
       "      <td>0.0</td>\n",
       "      <td>0.0</td>\n",
       "      <td>2.0</td>\n",
       "      <td>16.0</td>\n",
       "      <td>16.0</td>\n",
       "      <td>2.0</td>\n",
       "      <td>0.0</td>\n",
       "      <td>0.0</td>\n",
       "      <td>0.0</td>\n",
       "      <td>...</td>\n",
       "      <td>0.0</td>\n",
       "      <td>0.0</td>\n",
       "      <td>0.0</td>\n",
       "      <td>0.0</td>\n",
       "      <td>2.0</td>\n",
       "      <td>12.0</td>\n",
       "      <td>15.0</td>\n",
       "      <td>4.0</td>\n",
       "      <td>0.0</td>\n",
       "      <td>1</td>\n",
       "    </tr>\n",
       "    <tr>\n",
       "      <th>42</th>\n",
       "      <td>0.0</td>\n",
       "      <td>0.0</td>\n",
       "      <td>0.0</td>\n",
       "      <td>0.0</td>\n",
       "      <td>12.0</td>\n",
       "      <td>5.0</td>\n",
       "      <td>0.0</td>\n",
       "      <td>0.0</td>\n",
       "      <td>0.0</td>\n",
       "      <td>0.0</td>\n",
       "      <td>...</td>\n",
       "      <td>0.0</td>\n",
       "      <td>0.0</td>\n",
       "      <td>0.0</td>\n",
       "      <td>0.0</td>\n",
       "      <td>3.0</td>\n",
       "      <td>16.0</td>\n",
       "      <td>8.0</td>\n",
       "      <td>0.0</td>\n",
       "      <td>0.0</td>\n",
       "      <td>1</td>\n",
       "    </tr>\n",
       "    <tr>\n",
       "      <th>47</th>\n",
       "      <td>0.0</td>\n",
       "      <td>0.0</td>\n",
       "      <td>0.0</td>\n",
       "      <td>1.0</td>\n",
       "      <td>11.0</td>\n",
       "      <td>9.0</td>\n",
       "      <td>0.0</td>\n",
       "      <td>0.0</td>\n",
       "      <td>0.0</td>\n",
       "      <td>0.0</td>\n",
       "      <td>...</td>\n",
       "      <td>0.0</td>\n",
       "      <td>0.0</td>\n",
       "      <td>0.0</td>\n",
       "      <td>0.0</td>\n",
       "      <td>2.0</td>\n",
       "      <td>14.0</td>\n",
       "      <td>6.0</td>\n",
       "      <td>0.0</td>\n",
       "      <td>0.0</td>\n",
       "      <td>1</td>\n",
       "    </tr>\n",
       "    <tr>\n",
       "      <th>...</th>\n",
       "      <td>...</td>\n",
       "      <td>...</td>\n",
       "      <td>...</td>\n",
       "      <td>...</td>\n",
       "      <td>...</td>\n",
       "      <td>...</td>\n",
       "      <td>...</td>\n",
       "      <td>...</td>\n",
       "      <td>...</td>\n",
       "      <td>...</td>\n",
       "      <td>...</td>\n",
       "      <td>...</td>\n",
       "      <td>...</td>\n",
       "      <td>...</td>\n",
       "      <td>...</td>\n",
       "      <td>...</td>\n",
       "      <td>...</td>\n",
       "      <td>...</td>\n",
       "      <td>...</td>\n",
       "      <td>...</td>\n",
       "      <td>...</td>\n",
       "    </tr>\n",
       "    <tr>\n",
       "      <th>1752</th>\n",
       "      <td>0.0</td>\n",
       "      <td>0.0</td>\n",
       "      <td>4.0</td>\n",
       "      <td>10.0</td>\n",
       "      <td>12.0</td>\n",
       "      <td>7.0</td>\n",
       "      <td>0.0</td>\n",
       "      <td>0.0</td>\n",
       "      <td>0.0</td>\n",
       "      <td>0.0</td>\n",
       "      <td>...</td>\n",
       "      <td>0.0</td>\n",
       "      <td>0.0</td>\n",
       "      <td>0.0</td>\n",
       "      <td>1.0</td>\n",
       "      <td>9.0</td>\n",
       "      <td>10.0</td>\n",
       "      <td>0.0</td>\n",
       "      <td>0.0</td>\n",
       "      <td>0.0</td>\n",
       "      <td>1</td>\n",
       "    </tr>\n",
       "    <tr>\n",
       "      <th>1757</th>\n",
       "      <td>0.0</td>\n",
       "      <td>0.0</td>\n",
       "      <td>4.0</td>\n",
       "      <td>16.0</td>\n",
       "      <td>16.0</td>\n",
       "      <td>8.0</td>\n",
       "      <td>0.0</td>\n",
       "      <td>0.0</td>\n",
       "      <td>0.0</td>\n",
       "      <td>0.0</td>\n",
       "      <td>...</td>\n",
       "      <td>0.0</td>\n",
       "      <td>0.0</td>\n",
       "      <td>0.0</td>\n",
       "      <td>6.0</td>\n",
       "      <td>12.0</td>\n",
       "      <td>12.0</td>\n",
       "      <td>2.0</td>\n",
       "      <td>0.0</td>\n",
       "      <td>0.0</td>\n",
       "      <td>1</td>\n",
       "    </tr>\n",
       "    <tr>\n",
       "      <th>1760</th>\n",
       "      <td>0.0</td>\n",
       "      <td>0.0</td>\n",
       "      <td>1.0</td>\n",
       "      <td>12.0</td>\n",
       "      <td>10.0</td>\n",
       "      <td>3.0</td>\n",
       "      <td>0.0</td>\n",
       "      <td>0.0</td>\n",
       "      <td>0.0</td>\n",
       "      <td>0.0</td>\n",
       "      <td>...</td>\n",
       "      <td>0.0</td>\n",
       "      <td>0.0</td>\n",
       "      <td>0.0</td>\n",
       "      <td>1.0</td>\n",
       "      <td>7.0</td>\n",
       "      <td>12.0</td>\n",
       "      <td>10.0</td>\n",
       "      <td>0.0</td>\n",
       "      <td>0.0</td>\n",
       "      <td>1</td>\n",
       "    </tr>\n",
       "    <tr>\n",
       "      <th>1766</th>\n",
       "      <td>0.0</td>\n",
       "      <td>0.0</td>\n",
       "      <td>8.0</td>\n",
       "      <td>12.0</td>\n",
       "      <td>11.0</td>\n",
       "      <td>6.0</td>\n",
       "      <td>0.0</td>\n",
       "      <td>0.0</td>\n",
       "      <td>0.0</td>\n",
       "      <td>0.0</td>\n",
       "      <td>...</td>\n",
       "      <td>0.0</td>\n",
       "      <td>0.0</td>\n",
       "      <td>0.0</td>\n",
       "      <td>4.0</td>\n",
       "      <td>11.0</td>\n",
       "      <td>12.0</td>\n",
       "      <td>7.0</td>\n",
       "      <td>0.0</td>\n",
       "      <td>0.0</td>\n",
       "      <td>1</td>\n",
       "    </tr>\n",
       "    <tr>\n",
       "      <th>1774</th>\n",
       "      <td>0.0</td>\n",
       "      <td>0.0</td>\n",
       "      <td>6.0</td>\n",
       "      <td>12.0</td>\n",
       "      <td>12.0</td>\n",
       "      <td>6.0</td>\n",
       "      <td>0.0</td>\n",
       "      <td>0.0</td>\n",
       "      <td>0.0</td>\n",
       "      <td>0.0</td>\n",
       "      <td>...</td>\n",
       "      <td>0.0</td>\n",
       "      <td>0.0</td>\n",
       "      <td>0.0</td>\n",
       "      <td>2.0</td>\n",
       "      <td>11.0</td>\n",
       "      <td>10.0</td>\n",
       "      <td>4.0</td>\n",
       "      <td>0.0</td>\n",
       "      <td>0.0</td>\n",
       "      <td>1</td>\n",
       "    </tr>\n",
       "  </tbody>\n",
       "</table>\n",
       "<p>182 rows × 65 columns</p>\n",
       "</div>"
      ],
      "text/plain": [
       "      pixel_0_0  pixel_0_1  pixel_0_2  pixel_0_3  pixel_0_4  pixel_0_5  \\\n",
       "1           0.0        0.0        0.0       12.0       13.0        5.0   \n",
       "11          0.0        0.0        0.0        0.0       14.0       13.0   \n",
       "21          0.0        0.0        0.0        2.0       16.0       16.0   \n",
       "42          0.0        0.0        0.0        0.0       12.0        5.0   \n",
       "47          0.0        0.0        0.0        1.0       11.0        9.0   \n",
       "...         ...        ...        ...        ...        ...        ...   \n",
       "1752        0.0        0.0        4.0       10.0       12.0        7.0   \n",
       "1757        0.0        0.0        4.0       16.0       16.0        8.0   \n",
       "1760        0.0        0.0        1.0       12.0       10.0        3.0   \n",
       "1766        0.0        0.0        8.0       12.0       11.0        6.0   \n",
       "1774        0.0        0.0        6.0       12.0       12.0        6.0   \n",
       "\n",
       "      pixel_0_6  pixel_0_7  pixel_1_0  pixel_1_1  ...  pixel_6_7  pixel_7_0  \\\n",
       "1           0.0        0.0        0.0        0.0  ...        0.0        0.0   \n",
       "11          1.0        0.0        0.0        0.0  ...        0.0        0.0   \n",
       "21          2.0        0.0        0.0        0.0  ...        0.0        0.0   \n",
       "42          0.0        0.0        0.0        0.0  ...        0.0        0.0   \n",
       "47          0.0        0.0        0.0        0.0  ...        0.0        0.0   \n",
       "...         ...        ...        ...        ...  ...        ...        ...   \n",
       "1752        0.0        0.0        0.0        0.0  ...        0.0        0.0   \n",
       "1757        0.0        0.0        0.0        0.0  ...        0.0        0.0   \n",
       "1760        0.0        0.0        0.0        0.0  ...        0.0        0.0   \n",
       "1766        0.0        0.0        0.0        0.0  ...        0.0        0.0   \n",
       "1774        0.0        0.0        0.0        0.0  ...        0.0        0.0   \n",
       "\n",
       "      pixel_7_1  pixel_7_2  pixel_7_3  pixel_7_4  pixel_7_5  pixel_7_6  \\\n",
       "1           0.0        0.0       11.0       16.0       10.0        0.0   \n",
       "11          0.0        0.0        1.0       13.0       16.0        1.0   \n",
       "21          0.0        0.0        2.0       12.0       15.0        4.0   \n",
       "42          0.0        0.0        3.0       16.0        8.0        0.0   \n",
       "47          0.0        0.0        2.0       14.0        6.0        0.0   \n",
       "...         ...        ...        ...        ...        ...        ...   \n",
       "1752        0.0        1.0        9.0       10.0        0.0        0.0   \n",
       "1757        0.0        6.0       12.0       12.0        2.0        0.0   \n",
       "1760        0.0        1.0        7.0       12.0       10.0        0.0   \n",
       "1766        0.0        4.0       11.0       12.0        7.0        0.0   \n",
       "1774        0.0        2.0       11.0       10.0        4.0        0.0   \n",
       "\n",
       "      pixel_7_7  label  \n",
       "1           0.0      1  \n",
       "11          0.0      1  \n",
       "21          0.0      1  \n",
       "42          0.0      1  \n",
       "47          0.0      1  \n",
       "...         ...    ...  \n",
       "1752        0.0      1  \n",
       "1757        0.0      1  \n",
       "1760        0.0      1  \n",
       "1766        0.0      1  \n",
       "1774        0.0      1  \n",
       "\n",
       "[182 rows x 65 columns]"
      ]
     },
     "execution_count": 3,
     "metadata": {},
     "output_type": "execute_result"
    }
   ],
   "source": [
    "#nombre d'exemples par classe :\n",
    "#on convertit digits en dataframe en ajoutant la colonne des labels\n",
    "df = pd.DataFrame(data=digits.data, columns=digits.feature_names)\n",
    "df['label'] = y\n",
    "\n",
    "#on applique un filtre pour afficher le nombre d'observations par label\n",
    "#on peut changer le label dans eq() pour voir les observations associé à ce dernier\n",
    "df_mask=df[df.label.eq(1)]\n",
    "df_mask"
   ]
  },
  {
   "cell_type": "code",
   "execution_count": 4,
   "id": "5e8ea3ff",
   "metadata": {},
   "outputs": [
    {
     "data": {
      "text/plain": [
       "[0, 1, 2, 3, 4, 5, 6, 7, 8, 9]"
      ]
     },
     "execution_count": 4,
     "metadata": {},
     "output_type": "execute_result"
    }
   ],
   "source": [
    "#on peut sélectionner une donnée comme ceci :\n",
    "donnee = X[1,:] #on récupère une ligne, donc une donnée\n",
    "classe = y[1] #et sa classe\n",
    "\n",
    "#on remarque que les 10 premières données ont aussi les 10 premiers labels\n",
    "liste=[]\n",
    "for i in range(10):\n",
    "    liste.append(y[i]) # et sa classe\n",
    "    \n",
    "liste"
   ]
  },
  {
   "cell_type": "code",
   "execution_count": 5,
   "id": "ddd41729",
   "metadata": {},
   "outputs": [
    {
     "data": {
      "image/png": "[encoded data removed]",
      "text/plain": [
       "<Figure size 1872x720 with 10 Axes>"
      ]
     },
     "metadata": {
      "needs_background": "light"
     },
     "output_type": "display_data"
    }
   ],
   "source": [
    "#on peut donc les représenter pour jeter un oeil à la base brute\n",
    "\n",
    "plt.figure(figsize=(26,10))\n",
    "for i in range(10):\n",
    "    image = X[i, :]\n",
    "    classe = y[i]\n",
    "    plt.subplot(1, 10, i + 1)\n",
    "    plt.imshow(np.reshape(image, (8,8)), cmap=plt.cm.gray)\n",
    "    plt.title('Classe : %i\\n' % classe, fontsize = 18)\n",
    "plt.show()"
   ]
  },
  {
   "cell_type": "code",
   "execution_count": 6,
   "id": "664cb449",
   "metadata": {},
   "outputs": [
    {
     "name": "stdout",
     "output_type": "stream",
     "text": [
      "0.987037037037037\n"
     ]
    }
   ],
   "source": [
    "#ALGORITHME DES K-VOISINS\n",
    "\n",
    "#on sépare la base en deux : 70% apprentissage et 30% test\n",
    "X_train, X_test, y_train, y_test = train_test_split(X, y, test_size = 0.3)\n",
    "\n",
    "#on crée un classificateur avec k = 3\n",
    "model = neighbors.KNeighborsClassifier(n_neighbors=3)\n",
    "\n",
    "#on ajuste le modèle avec nos données et nos labels d'entraînement\n",
    "model.fit(X_train, y_train)\n",
    "\n",
    "#on veut prédire des labels sur nos données de test\n",
    "predictions = model.predict(X_test)\n",
    "predictions\n",
    "\n",
    "#on peut sortir une accuracy en comparant avec nos labels de test\n",
    "acc = np.sum(predictions == y_test)/len(y_test)\n",
    "print(acc)"
   ]
  },
  {
   "cell_type": "code",
   "execution_count": 7,
   "id": "b1ae61c1",
   "metadata": {},
   "outputs": [
    {
     "data": {
      "image/png": "[encoded data removed]",
      "text/plain": [
       "<Figure size 432x288 with 1 Axes>"
      ]
     },
     "metadata": {
      "needs_background": "light"
     },
     "output_type": "display_data"
    }
   ],
   "source": [
    "#on peut boucler afin de trouver le meilleur k pour notre classificateur\n",
    "errors = []\n",
    "for k in range(2,15):\n",
    "    model = neighbors.KNeighborsClassifier(n_neighbors=k)\n",
    "    errors.append(100*(1 - model.fit(X_train, y_train).score(X_test, y_test)))\n",
    "\n",
    "plt.plot(range(2,15), errors, 'o-')\n",
    "plt.show()"
   ]
  },
  {
   "cell_type": "code",
   "execution_count": 8,
   "id": "620b1744",
   "metadata": {},
   "outputs": [
    {
     "data": {
      "image/png": "[encoded data removed]",
      "text/plain": [
       "<Figure size 432x288 with 1 Axes>"
      ]
     },
     "metadata": {
      "needs_background": "light"
     },
     "output_type": "display_data"
    }
   ],
   "source": [
    "#on peut vérifier nous-même ce que notre algorithme a prédit :\n",
    "#on prend un donnée et on prédit son label avec ce même algorithme\n",
    "\n",
    "donnee = X[100]\n",
    "donnee1 = donnee.reshape(1,-1)\n",
    "plt.imshow(digits['images'][100], cmap='Greys_r')\n",
    "plt.show()\n"
   ]
  },
  {
   "cell_type": "code",
   "execution_count": 9,
   "id": "51a17d99",
   "metadata": {},
   "outputs": [
    {
     "data": {
      "text/plain": [
       "array([4])"
      ]
     },
     "execution_count": 9,
     "metadata": {},
     "output_type": "execute_result"
    }
   ],
   "source": [
    "#on regarde ce que notre modèle prédit. il affiche un 4, c'est bon ! :)\n",
    "model.predict(donnee1)"
   ]
  },
  {
   "cell_type": "code",
   "execution_count": 10,
   "id": "e6a9fdce",
   "metadata": {},
   "outputs": [
    {
     "name": "stdout",
     "output_type": "stream",
     "text": [
      "0.9722222222222222\n"
     ]
    },
    {
     "data": {
      "text/plain": [
       "\"\\nQuand on exécute plusieurs fois la cellule, l'accuracy augmente ! C'est logique : plus on entraîne le modèle, plus il apprend\\net moins il a de chance de se tromper, donc l'accuracy augmente.\\n\\n\""
      ]
     },
     "execution_count": 10,
     "metadata": {},
     "output_type": "execute_result"
    }
   ],
   "source": [
    "#on répete plusieurs fois la procédure de partition-classification et on conclue.\n",
    "\n",
    "#                                               k = 3\n",
    "\n",
    "#on crée un classificateur\n",
    "model = neighbors.KNeighborsClassifier(n_neighbors=4)\n",
    "\n",
    "#on ajuste le modèle avec nos données et nos labels d'entraînement\n",
    "model.fit(X_train, y_train)\n",
    "\n",
    "#on veut prédire des labels sur nos données de test\n",
    "predictions = model.predict(X_test)\n",
    "predictions\n",
    "\n",
    "#on peut sortir une accuracy en comparant avec nos labels de test\n",
    "acc = np.sum(predictions == y_test)/len(y_test)\n",
    "print(acc)\n",
    "\n",
    "'''\n",
    "Quand on exécute plusieurs fois la cellule, l'accuracy augmente ! C'est logique : plus on entraîne le modèle, plus il apprend\n",
    "et moins il a de chance de se tromper, donc l'accuracy augmente.\n",
    "\n",
    "'''"
   ]
  },
  {
   "cell_type": "code",
   "execution_count": 11,
   "id": "40df9675",
   "metadata": {},
   "outputs": [
    {
     "data": {
      "text/plain": [
       "'\\nOn utilise pas toutes les données car PCA n\\'est pas un algorithme d\\'apprentissage.\\nIl n\\'a pas besoin d\\'autant de données afin de réduire les features.\\n\\nLa figure ci-dessous montre les 10 différentes classes, regroupées en clusters.\\nOn peut remarquer que les clusters 0 et 6 sont les plus séparées des autres, donc\\nce sont possiblement les plus faciles à séparer du reste, mais peuvent légèrement se confondre.\\n\\nLes classes les plus difficiles à séparer seraient des clusters \"contagieux\", c\\'est à dire des chiffres qui\\nauraient du mal à se différencier : on peut voir sur la figure que les clusters 9 et 3 sont contagieux => il sera donc\\nplus difficile de séparer un 9 d\\'un 3 qu\\'un 9 d\\'un 4 (en magenta) par exemple.\\n\\nChaque composant sera plus ou moins utile à la séparation d\\'un cluster en particulier.\\n\\n'"
      ]
     },
     "execution_count": 11,
     "metadata": {},
     "output_type": "execute_result"
    },
    {
     "data": {
      "image/png": "[encoded data removed]",
      "text/plain": [
       "<Figure size 432x288 with 1 Axes>"
      ]
     },
     "metadata": {
      "needs_background": "light"
     },
     "output_type": "display_data"
    }
   ],
   "source": [
    "'''\n",
    "Analyse en composantes principales.\n",
    "\n",
    "RAPPEL : \n",
    "Cette méthode transforme un ensemble de variables éventuellement corrélées en un nouvel ensemble de variables aussi peu corrélées que possible. \n",
    "Les nouvelles variables se situent dans un nouveau système de coordonnées tel que la plus grande variance est obtenue en \n",
    "projetant les données dans la première coordonnée, la deuxième plus grande variance en projetant dans la deuxième coordonnée, \n",
    "et ainsi de suite. Ces nouvelles coordonnées sont appelées composantes principales ; \n",
    "nous avons autant de composantes principales que le nombre de dimensions d'origine, mais nous ne gardons que celles qui ont \n",
    "une variance élevée. Chaque nouvelle composante principale ajoutée à l'ensemble des composantes principales doit respecter \n",
    "la restriction selon laquelle elle doit être orthogonale (c'est-à-dire non corrélée) aux composantes principales restantes. \n",
    "L'ACP peut être considérée comme une méthode qui révèle la structure interne des données ; \n",
    "elle fournit à l'utilisateur une ombre de dimension inférieure des objets originaux. \n",
    "Si nous ne conservons que les premières composantes principales, la dimensionnalité des données est réduite et \n",
    "il est donc plus facile de visualiser la structure des données. Si nous ne conservons, par exemple, que les première et \n",
    "deuxième composantes, nous pouvons examiner les données à l'aide d'un nuage de points bidimensionnel.\n",
    "\n",
    "image(x)=mean+x1⋅(basis 1)+x2⋅(basis 2)+x3⋅(basis 3)⋯\n",
    "PCA peut être considérée comme un processus consistant à choisir des fonctions de base optimales, de sorte que l'addition des \n",
    "premières d'entre elles suffise à reconstruire correctement la majeure partie des éléments de l'ensemble de données. \n",
    "Les composantes principales, qui agissent comme la représentation à faible dimension de nos données, \n",
    "sont simplement les coefficients qui multiplient chacun des éléments de cette série.\n",
    "\n",
    "'''\n",
    "\n",
    "#import\n",
    "from sklearn.decomposition import PCA\n",
    "\n",
    "#on utilise le solveur PCA de sklearn pour réaliser la PCA\n",
    "pca = PCA(n_components=2)\n",
    "X_pca = pca.fit_transform(X_train)\n",
    "\n",
    "#on peut représenter nos données en fonction de ces deux composants\n",
    "colors = ['black', 'blue', 'purple', 'yellow', 'magenta', 'red', 'lime', 'cyan', 'orange', 'gray']\n",
    "for i in range(len(colors)):\n",
    "    px = X_pca[:, 0][y_train == i]\n",
    "    py = X_pca[:, 1][y_train == i]\n",
    "    plt.scatter(px, py, c=colors[i])\n",
    "    \n",
    "plt.legend(digits.target_names)\n",
    "plt.xlabel('First Principal Component')\n",
    "plt.ylabel('Second Principal Component')\n",
    "\n",
    "'''\n",
    "On utilise pas toutes les données car PCA n'est pas un algorithme d'apprentissage.\n",
    "Il n'a pas besoin d'autant de données afin de réduire les features.\n",
    "\n",
    "La figure ci-dessous montre les 10 différentes classes, regroupées en clusters.\n",
    "On peut remarquer que les clusters 0 et 6 sont les plus séparées des autres, donc\n",
    "ce sont possiblement les plus faciles à séparer du reste, mais peuvent légèrement se confondre.\n",
    "\n",
    "Les classes les plus difficiles à séparer seraient des clusters \"contagieux\", c'est à dire des chiffres qui\n",
    "auraient du mal à se différencier : on peut voir sur la figure que les clusters 9 et 3 sont contagieux => il sera donc\n",
    "plus difficile de séparer un 9 d'un 3 qu'un 9 d'un 4 (en magenta) par exemple.\n",
    "\n",
    "Chaque composant sera plus ou moins utile à la séparation d'un cluster en particulier.\n",
    "\n",
    "'''\n"
   ]
  },
  {
   "cell_type": "code",
   "execution_count": 12,
   "id": "7f3841eb",
   "metadata": {},
   "outputs": [
    {
     "data": {
      "image/png": "[encoded data removed]",
      "text/plain": [
       "<Figure size 432x288 with 1 Axes>"
      ]
     },
     "metadata": {
      "needs_background": "light"
     },
     "output_type": "display_data"
    },
    {
     "data": {
      "text/plain": [
       "array([1.77604989e+02, 1.65541527e+02, 1.41383413e+02, 1.00215413e+02,\n",
       "       7.05838279e+01, 5.97222148e+01, 5.39755740e+01, 4.52248636e+01,\n",
       "       4.05401888e+01, 3.68644552e+01, 2.88112179e+01, 2.76841616e+01,\n",
       "       2.17162424e+01, 2.10592969e+01, 1.82209831e+01, 1.69652601e+01,\n",
       "       1.57138229e+01, 1.51819196e+01, 1.25596273e+01, 1.08620509e+01,\n",
       "       1.04540580e+01, 9.82500818e+00, 9.62701329e+00, 8.54039621e+00,\n",
       "       8.43165768e+00, 7.21926194e+00, 6.83829922e+00, 6.28959277e+00,\n",
       "       5.98572748e+00, 5.18703562e+00, 4.48505399e+00, 4.21618528e+00,\n",
       "       4.15869252e+00, 4.05638270e+00, 3.70004634e+00, 3.51352691e+00,\n",
       "       3.05035117e+00, 2.79083383e+00, 2.77657889e+00, 2.48491409e+00,\n",
       "       2.30102742e+00, 1.90081310e+00, 1.80368985e+00, 1.68139902e+00,\n",
       "       1.46134272e+00, 1.32640122e+00, 1.18139995e+00, 9.68806305e-01,\n",
       "       6.21228695e-01, 5.07737999e-01, 2.11387598e-01, 8.73824288e-02,\n",
       "       7.32037394e-02, 5.32041236e-02, 4.69287765e-02, 1.43673654e-02,\n",
       "       8.78764235e-03, 4.49614826e-03, 8.33082018e-04, 3.81883273e-04,\n",
       "       2.42145657e-04, 9.98895066e-31, 9.98895066e-31, 9.49772044e-31])"
      ]
     },
     "execution_count": 12,
     "metadata": {},
     "output_type": "execute_result"
    }
   ],
   "source": [
    "#afin de sélectionner les nombres de features nécessaires à cette réduction\n",
    "#on regarde l'inertie expliquée (variance expliquée) en fonction du nombre de composants\n",
    "\n",
    "'''\n",
    "Pour des problèmes à faible dimension, on applique le critère de Catell et \n",
    "on cherche le coude.\n",
    "\n",
    "'''\n",
    "pca = PCA().fit(X_train)\n",
    "plt.plot(pca.explained_variance_)\n",
    "plt.ylabel('Variance expliquée')\n",
    "plt.xlabel('Composents')\n",
    "plt.title('Ratio de variance expliquée')\n",
    "plt.show()\n",
    "pca.explained_variance_\n"
   ]
  },
  {
   "cell_type": "code",
   "execution_count": 13,
   "id": "baed199c",
   "metadata": {},
   "outputs": [
    {
     "data": {
      "text/plain": [
       "\"\\nIci, nous avons un problème à forte dimension, nous utiliserons donc le premier \\ncritère (Joliffe).\\n===> il faudrait donc 30 composants.\\n\\nCes nouveaux composants sont :\\n- classés par le nombre d'information que chacun retient\\n- non correlés\\n\\n\""
      ]
     },
     "execution_count": 13,
     "metadata": {},
     "output_type": "execute_result"
    },
    {
     "data": {
      "image/png": "[encoded data removed]",
      "text/plain": [
       "<Figure size 432x288 with 1 Axes>"
      ]
     },
     "metadata": {
      "needs_background": "light"
     },
     "output_type": "display_data"
    }
   ],
   "source": [
    "'''\n",
    "Cette courbe quantifie la part de la variance totale, à 64 dimensions, \n",
    "contenue dans les N premières composantes.\n",
    "\n",
    "Pour des problèmes à grande dimension, on applique le critère de Joliffe :\n",
    "On regarde ensuite à quel nombre de PCA se trouve 90% de l'inertie.\n",
    "\n",
    "'''\n",
    "\n",
    "pca = PCA().fit(X_train)\n",
    "plt.plot(np.cumsum(pca.explained_variance_ratio_))\n",
    "plt.xlabel('rang de la valeur propre/nombre de composants')\n",
    "plt.ylabel('inertie expliquée cumulée/variance expliquée cumulée');\n",
    "\n",
    "'''\n",
    "Ici, nous avons un problème à forte dimension, nous utiliserons donc le premier \n",
    "critère (Joliffe).\n",
    "===> il faudrait donc 30 composants.\n",
    "\n",
    "Ces nouveaux composants sont :\n",
    "- classés par le nombre d'information que chacun retient\n",
    "- non correlés\n",
    "\n",
    "'''"
   ]
  },
  {
   "cell_type": "code",
   "execution_count": 14,
   "id": "cb0a63cc",
   "metadata": {},
   "outputs": [
    {
     "name": "stdout",
     "output_type": "stream",
     "text": [
      "0.9907407407407407\n"
     ]
    }
   ],
   "source": [
    "'''\n",
    "Classification.\n",
    "\n",
    "'''\n",
    "\n",
    "#on veut refaire knn mais cette fois, en prenant seulement les 30 composants trouvées\n",
    "#précédemment.\n",
    "#on sortira ensuite un tableau d'accuracy en changeant le nombre de composants pour comparer\n",
    "#et conclure.\n",
    "\n",
    "#on crée un tableau vide pour les accuracy\n",
    "nbr_PCA=[i for i in range(30,64)]\n",
    "acccy=[]\n",
    "\n",
    "\n",
    "#                            pour M=30\n",
    "pca = PCA(n_components=30)\n",
    "pca.fit(X) #estime les composants\n",
    "\n",
    "#on ajuste nos nouvelles données avec le pca précédent\n",
    "X_pca = pca.transform(X) #nouvelle base => remplace X. on garde les mêmes y car pas de descripteurs liés\n",
    "\n",
    "X_pca.shape #on retourne bien autant de données mais avec 30 descripteurs !\n",
    "\n",
    "#ALGORITHME DES K-VOISINS\n",
    "\n",
    "#on sépare la base en deux : 70% apprentissage et 30% test\n",
    "X_train_pca, X_test_pca, y_train_pca, y_test_pca = train_test_split(X_pca, y, test_size = 0.3)\n",
    "\n",
    "#on crée un classificateur avec k = 3\n",
    "model = neighbors.KNeighborsClassifier(n_neighbors=3)\n",
    "\n",
    "#on ajuste le modèle avec nos données et nos labels d'entraînement\n",
    "model.fit(X_train_pca, y_train_pca)\n",
    "\n",
    "#on veut prédire des labels sur nos données de test\n",
    "predictions = model.predict(X_test_pca)\n",
    "predictions\n",
    "\n",
    "#on peut sortir une accuracy en comparant avec nos labels de test\n",
    "acc = np.sum(predictions == y_test_pca)/len(y_test_pca)\n",
    "print(acc)\n",
    "acccy.append(acc)"
   ]
  },
  {
   "cell_type": "code",
   "execution_count": 15,
   "id": "1829ff7c",
   "metadata": {},
   "outputs": [
    {
     "data": {
      "text/html": [
       "<div>\n",
       "<style scoped>\n",
       "    .dataframe tbody tr th:only-of-type {\n",
       "        vertical-align: middle;\n",
       "    }\n",
       "\n",
       "    .dataframe tbody tr th {\n",
       "        vertical-align: top;\n",
       "    }\n",
       "\n",
       "    .dataframe thead th {\n",
       "        text-align: right;\n",
       "    }\n",
       "</style>\n",
       "<table border=\"1\" class=\"dataframe\">\n",
       "  <thead>\n",
       "    <tr style=\"text-align: right;\">\n",
       "      <th></th>\n",
       "      <th>Nombre de PCA</th>\n",
       "      <th>Accuracy</th>\n",
       "    </tr>\n",
       "  </thead>\n",
       "  <tbody>\n",
       "    <tr>\n",
       "      <th>0</th>\n",
       "      <td>30</td>\n",
       "      <td>0.990741</td>\n",
       "    </tr>\n",
       "    <tr>\n",
       "      <th>1</th>\n",
       "      <td>31</td>\n",
       "      <td>0.987037</td>\n",
       "    </tr>\n",
       "    <tr>\n",
       "      <th>2</th>\n",
       "      <td>32</td>\n",
       "      <td>0.988889</td>\n",
       "    </tr>\n",
       "    <tr>\n",
       "      <th>3</th>\n",
       "      <td>33</td>\n",
       "      <td>0.988889</td>\n",
       "    </tr>\n",
       "    <tr>\n",
       "      <th>4</th>\n",
       "      <td>34</td>\n",
       "      <td>0.985185</td>\n",
       "    </tr>\n",
       "    <tr>\n",
       "      <th>5</th>\n",
       "      <td>35</td>\n",
       "      <td>0.987037</td>\n",
       "    </tr>\n",
       "    <tr>\n",
       "      <th>6</th>\n",
       "      <td>36</td>\n",
       "      <td>0.983333</td>\n",
       "    </tr>\n",
       "    <tr>\n",
       "      <th>7</th>\n",
       "      <td>37</td>\n",
       "      <td>0.983333</td>\n",
       "    </tr>\n",
       "    <tr>\n",
       "      <th>8</th>\n",
       "      <td>38</td>\n",
       "      <td>0.992593</td>\n",
       "    </tr>\n",
       "    <tr>\n",
       "      <th>9</th>\n",
       "      <td>39</td>\n",
       "      <td>0.988889</td>\n",
       "    </tr>\n",
       "    <tr>\n",
       "      <th>10</th>\n",
       "      <td>40</td>\n",
       "      <td>0.996296</td>\n",
       "    </tr>\n",
       "    <tr>\n",
       "      <th>11</th>\n",
       "      <td>41</td>\n",
       "      <td>0.981481</td>\n",
       "    </tr>\n",
       "    <tr>\n",
       "      <th>12</th>\n",
       "      <td>42</td>\n",
       "      <td>0.992593</td>\n",
       "    </tr>\n",
       "    <tr>\n",
       "      <th>13</th>\n",
       "      <td>43</td>\n",
       "      <td>0.983333</td>\n",
       "    </tr>\n",
       "    <tr>\n",
       "      <th>14</th>\n",
       "      <td>44</td>\n",
       "      <td>0.990741</td>\n",
       "    </tr>\n",
       "    <tr>\n",
       "      <th>15</th>\n",
       "      <td>45</td>\n",
       "      <td>0.988889</td>\n",
       "    </tr>\n",
       "    <tr>\n",
       "      <th>16</th>\n",
       "      <td>46</td>\n",
       "      <td>0.977778</td>\n",
       "    </tr>\n",
       "    <tr>\n",
       "      <th>17</th>\n",
       "      <td>47</td>\n",
       "      <td>0.979630</td>\n",
       "    </tr>\n",
       "    <tr>\n",
       "      <th>18</th>\n",
       "      <td>48</td>\n",
       "      <td>0.990741</td>\n",
       "    </tr>\n",
       "    <tr>\n",
       "      <th>19</th>\n",
       "      <td>49</td>\n",
       "      <td>0.985185</td>\n",
       "    </tr>\n",
       "    <tr>\n",
       "      <th>20</th>\n",
       "      <td>50</td>\n",
       "      <td>0.981481</td>\n",
       "    </tr>\n",
       "    <tr>\n",
       "      <th>21</th>\n",
       "      <td>51</td>\n",
       "      <td>0.987037</td>\n",
       "    </tr>\n",
       "    <tr>\n",
       "      <th>22</th>\n",
       "      <td>52</td>\n",
       "      <td>0.985185</td>\n",
       "    </tr>\n",
       "    <tr>\n",
       "      <th>23</th>\n",
       "      <td>53</td>\n",
       "      <td>0.985185</td>\n",
       "    </tr>\n",
       "    <tr>\n",
       "      <th>24</th>\n",
       "      <td>54</td>\n",
       "      <td>0.985185</td>\n",
       "    </tr>\n",
       "    <tr>\n",
       "      <th>25</th>\n",
       "      <td>55</td>\n",
       "      <td>0.988889</td>\n",
       "    </tr>\n",
       "    <tr>\n",
       "      <th>26</th>\n",
       "      <td>56</td>\n",
       "      <td>0.983333</td>\n",
       "    </tr>\n",
       "    <tr>\n",
       "      <th>27</th>\n",
       "      <td>57</td>\n",
       "      <td>0.979630</td>\n",
       "    </tr>\n",
       "    <tr>\n",
       "      <th>28</th>\n",
       "      <td>58</td>\n",
       "      <td>0.988889</td>\n",
       "    </tr>\n",
       "    <tr>\n",
       "      <th>29</th>\n",
       "      <td>59</td>\n",
       "      <td>0.988889</td>\n",
       "    </tr>\n",
       "    <tr>\n",
       "      <th>30</th>\n",
       "      <td>60</td>\n",
       "      <td>0.987037</td>\n",
       "    </tr>\n",
       "    <tr>\n",
       "      <th>31</th>\n",
       "      <td>61</td>\n",
       "      <td>0.987037</td>\n",
       "    </tr>\n",
       "    <tr>\n",
       "      <th>32</th>\n",
       "      <td>62</td>\n",
       "      <td>0.983333</td>\n",
       "    </tr>\n",
       "    <tr>\n",
       "      <th>33</th>\n",
       "      <td>63</td>\n",
       "      <td>0.983333</td>\n",
       "    </tr>\n",
       "  </tbody>\n",
       "</table>\n",
       "</div>"
      ],
      "text/plain": [
       "    Nombre de PCA  Accuracy\n",
       "0              30  0.990741\n",
       "1              31  0.987037\n",
       "2              32  0.988889\n",
       "3              33  0.988889\n",
       "4              34  0.985185\n",
       "5              35  0.987037\n",
       "6              36  0.983333\n",
       "7              37  0.983333\n",
       "8              38  0.992593\n",
       "9              39  0.988889\n",
       "10             40  0.996296\n",
       "11             41  0.981481\n",
       "12             42  0.992593\n",
       "13             43  0.983333\n",
       "14             44  0.990741\n",
       "15             45  0.988889\n",
       "16             46  0.977778\n",
       "17             47  0.979630\n",
       "18             48  0.990741\n",
       "19             49  0.985185\n",
       "20             50  0.981481\n",
       "21             51  0.987037\n",
       "22             52  0.985185\n",
       "23             53  0.985185\n",
       "24             54  0.985185\n",
       "25             55  0.988889\n",
       "26             56  0.983333\n",
       "27             57  0.979630\n",
       "28             58  0.988889\n",
       "29             59  0.988889\n",
       "30             60  0.987037\n",
       "31             61  0.987037\n",
       "32             62  0.983333\n",
       "33             63  0.983333"
      ]
     },
     "execution_count": 15,
     "metadata": {},
     "output_type": "execute_result"
    }
   ],
   "source": [
    "#on boucle pour le reste (de M + 1 à Dim)\n",
    "for m in range(31,64):\n",
    "    pca = PCA(n_components= m)\n",
    "    pca.fit(X)\n",
    "    X_pca = pca.transform(X)\n",
    "    X_train_pca, X_test_pca, y_train_pca, y_test_pca = train_test_split(X_pca, y, test_size = 0.3)\n",
    "    model = neighbors.KNeighborsClassifier(n_neighbors=3)\n",
    "    model.fit(X_train_pca, y_train_pca)\n",
    "    predictions = model.predict(X_test_pca)\n",
    "    acccy.append(np.sum(predictions == y_test_pca)/len(y_test_pca))\n",
    "\n",
    "#on met nos données dans un dataframe     \n",
    "accuracy= pd.DataFrame(list(zip(nbr_PCA, acccy)), columns=['Nombre de PCA', 'Accuracy'])\n",
    "accuracy"
   ]
  },
  {
   "cell_type": "code",
   "execution_count": 16,
   "id": "df441238",
   "metadata": {},
   "outputs": [
    {
     "data": {
      "image/png": "[encoded data removed]",
      "text/plain": [
       "<Figure size 432x288 with 1 Axes>"
      ]
     },
     "metadata": {
      "needs_background": "light"
     },
     "output_type": "display_data"
    },
    {
     "data": {
      "text/plain": [
       "\"\\nEn regardant le courbe, on remarque que la réduction de dimension nous donne de meilleures performances qu'en prenant le\\nnombre total de descripteurs !\\nLe PCA est donc une méthode qui non seulement rélève la structure interne des données, prends moins de ressources mais donne\\naussi de meilleures résultats pour le clustering.\\nOn arrive mieux à identifier un groupe en prenant en compte des éléments pertinents.\\n\\n\""
      ]
     },
     "execution_count": 16,
     "metadata": {},
     "output_type": "execute_result"
    }
   ],
   "source": [
    "#on trace le graphe montrant la variation du taux de reconnaissance en fonction de M\n",
    "\n",
    "accuracy.plot(x='Nombre de PCA', y='Accuracy')\n",
    "plt.show()\n",
    "\n",
    "'''\n",
    "En regardant le courbe, on remarque que la réduction de dimension nous donne de meilleures performances qu'en prenant le\n",
    "nombre total de descripteurs !\n",
    "Le PCA est donc une méthode qui non seulement rélève la structure interne des données, prends moins de ressources mais donne\n",
    "aussi de meilleures résultats pour le clustering.\n",
    "On arrive mieux à identifier un groupe en prenant en compte des éléments pertinents.\n",
    "\n",
    "'''"
   ]
  },
  {
   "cell_type": "code",
   "execution_count": 17,
   "id": "83a8d5ec",
   "metadata": {},
   "outputs": [
    {
     "data": {
      "image/png": "[encoded data removed]",
      "text/plain": [
       "<Figure size 1152x720 with 10 Axes>"
      ]
     },
     "metadata": {
      "needs_background": "light"
     },
     "output_type": "display_data"
    }
   ],
   "source": [
    "'''\n",
    "Compression.\n",
    "\n",
    "'''\n",
    "#import\n",
    "import numpy as np\n",
    "import matplotlib.pyplot as plt\n",
    "from sklearn.datasets import load_digits\n",
    "from sklearn import decomposition\n",
    "#on veut comparer les images entre les M composantes et les Dim dimensions\n",
    "#et en dégager l'erreur.\n",
    "\n",
    "#on compresse l'image\n",
    "pca = PCA(n_components= 30)\n",
    "pca.fit(X)\n",
    "X_pca = pca.transform(X)\n",
    "\n",
    "plt.figure(figsize=(16,10))\n",
    "for i in range(10):\n",
    "    image = X_pca[i, :]\n",
    "    plt.subplot(1, 10, i + 1)\n",
    "    plt.imshow(np.reshape(image, (6,5)), cmap=plt.cm.gray)\n",
    "plt.show()\n",
    "\n",
    "#voilà ce que les digits donnent lorsqu'on prend les 30 composantes"
   ]
  },
  {
   "cell_type": "code",
   "execution_count": 18,
   "id": "a654b71c",
   "metadata": {},
   "outputs": [
    {
     "data": {
      "image/png": "[encoded data removed]",
      "text/plain": [
       "<Figure size 1152x720 with 10 Axes>"
      ]
     },
     "metadata": {
      "needs_background": "light"
     },
     "output_type": "display_data"
    }
   ],
   "source": [
    "#on peut représenter les composantes\n",
    "plt.figure(figsize=(16,10))\n",
    "for i in range(10):\n",
    "    image = pca.components_[i, :]\n",
    "    plt.subplot(1, 10, i + 1)\n",
    "    plt.imshow(np.reshape(image, (8,8)), cmap=plt.cm.gray)\n",
    "plt.show()"
   ]
  },
  {
   "cell_type": "code",
   "execution_count": 20,
   "id": "fe9d0dd6",
   "metadata": {},
   "outputs": [
    {
     "data": {
      "image/png": "[encoded data removed]",
      "text/plain": [
       "<Figure size 360x144 with 5 Axes>"
      ]
     },
     "metadata": {
      "needs_background": "light"
     },
     "output_type": "display_data"
    },
    {
     "data": {
      "image/png": "[encoded data removed]",
      "text/plain": [
       "<Figure size 360x144 with 5 Axes>"
      ]
     },
     "metadata": {
      "needs_background": "light"
     },
     "output_type": "display_data"
    }
   ],
   "source": [
    "#on la reconstruit : reverse PCA => on reconstruit les variables d'origine depuis les composantes\n",
    "#PCA reconstruction = PC scores * Eigenvectors**T + Mean\n",
    "from sklearn.preprocessing import StandardScaler\n",
    "from sklearn.decomposition import PCA\n",
    "\n",
    "n_components = 30\n",
    "image_shape = (8, 8)\n",
    "\n",
    "#on normalise nos données\n",
    "scaler = StandardScaler()\n",
    "X_norm = scaler.fit_transform(X)\n",
    "\n",
    "digits = load_digits()\n",
    "digits = digits.data\n",
    "\n",
    "n_samples, n_features = digits.shape\n",
    "pca = decomposition.PCA(n_components=n_components, svd_solver='randomized', whiten=True)\n",
    "digits_recons = pca.inverse_transform(pca.fit_transform(X_norm)) #déprojection des composantes sur les données, fit_transforme donne juste les composantes\n",
    "\n",
    "#on choisit 5 digits au hasard et on dessine leur reconstruction avec les 30 composantes/eigenvecteurs\n",
    "indices = np.random.choice(n_samples, 5, replace=False)\n",
    "\n",
    "#original\n",
    "plt.figure(figsize=(5,2))\n",
    "for i in range(len(indices)):\n",
    "    plt.subplot(1,5,i+1), plt.imshow(np.reshape(digits[indices[i],:], image_shape)), plt.axis('off')\n",
    "plt.suptitle('Original', size=25)\n",
    "plt.show()\n",
    "\n",
    "#reconstruction\n",
    "plt.figure(figsize=(5,2))\n",
    "for i in range(len(indices)):\n",
    "    plt.subplot(1,5,i+1), plt.imshow(np.reshape(digits_recons[indices[i],:], image_shape)), plt.axis('off')\n",
    "plt.suptitle('Reconstitution'.format(n_components), size=25)\n",
    "plt.show()"
   ]
  },
  {
   "cell_type": "code",
   "execution_count": 22,
   "id": "22d09fb7",
   "metadata": {},
   "outputs": [
    {
     "name": "stdout",
     "output_type": "stream",
     "text": [
      "0.10180511258106308\n"
     ]
    },
    {
     "data": {
      "text/plain": [
       "\"\\nOn observe une perte après reconstitution. Par conséquent en passant par la PCA on pert qd même une quantité minime \\nd'information mais pas forcément utile ! On reconnait parfaitement nos digits.\\n\""
      ]
     },
     "execution_count": 22,
     "metadata": {},
     "output_type": "execute_result"
    }
   ],
   "source": [
    "#on se retrouve de nouveau avec nos 64 descripteurs ! On peut retourner la différence :\n",
    "X_recons = pca.inverse_transform(pca.transform(X_norm) )\n",
    "\n",
    "erreur = ((X_recons - X_norm)**2).mean(axis=None)\n",
    "print(erreur)\n",
    "'''\n",
    "On observe une perte après reconstitution. Par conséquent en passant par la PCA on pert qd même une quantité minime \n",
    "d'information mais pas forcément utile ! On reconnait parfaitement nos digits.\n",
    "'''"
   ]
  },
  {
   "cell_type": "code",
   "execution_count": 23,
   "id": "d4b52c53",
   "metadata": {},
   "outputs": [
    {
     "name": "stdout",
     "output_type": "stream",
     "text": [
      "Nombre de valeurs propres: (64,)\n",
      "Nombre de vecteurs propres: (64, 64)\n",
      "Nouvelle dimension : (1257, 30)\n",
      "Matrice de passage : [[ 0.00000000e+00  0.00000000e+00  1.59520266e-16 ...  1.77874666e-16\n",
      "  -2.48894616e-16  5.23918642e-16]\n",
      " [ 1.00000000e+00  0.00000000e+00  0.00000000e+00 ...  0.00000000e+00\n",
      "   0.00000000e+00  0.00000000e+00]\n",
      " [ 0.00000000e+00  0.00000000e+00 -3.76775269e-18 ...  1.77025829e-16\n",
      "  -1.19075589e-16  1.79719392e-16]\n",
      " ...\n",
      " [ 0.00000000e+00 -6.22399601e-03  7.04083857e-02 ... -1.04499120e-01\n",
      "  -5.79672018e-02  2.06713718e-01]\n",
      " [ 0.00000000e+00  5.76630536e-02  5.66201450e-02 ...  7.50641568e-02\n",
      "   1.95911835e-01  1.05279418e-01]\n",
      " [ 0.00000000e+00 -1.81134615e-01 -2.80555311e-01 ... -5.28019224e-02\n",
      "  -1.37961845e-01  1.34389901e-01]]\n"
     ]
    }
   ],
   "source": [
    "'''\n",
    "CALCUL- METHODE.\n",
    "\n",
    "Méthode pour calculer les PCA et projeter sur nos données.\n",
    "\n",
    "- Normaliser/Centrer les données => xi' = (xi - mu)/sigma\n",
    "- Calculer la matrice de covariance\n",
    "- Calculer ses eigenvalues => intertie expliquée pour chaque descripteur\n",
    "- Cacluler ses eigenvecteurs\n",
    "- Faire la matrice de passage\n",
    "\n",
    "'''\n",
    "#import\n",
    "from sklearn.preprocessing import StandardScaler\n",
    "from sklearn.decomposition import PCA\n",
    "\n",
    "#on normalise nos données d'entraînement \n",
    "scaler = StandardScaler()\n",
    "X_norm = scaler.fit_transform(X_train)\n",
    "#print(X_norm)\n",
    "\n",
    "#matrice de covariance => de manière automatique mais on pourrait la faire à la main\n",
    "#elle va nous aider à voir quel descripteur sont corrélés ou non\n",
    "#la diagonale de la matrice représente les variances, le reste les covariances\n",
    "#plus la covariance entre deux descripteurs est forte, plus ils sont corrélés\n",
    "matrix_cov = np.cov(X_norm,rowvar=False)\n",
    "#print(matrix_cov)\n",
    "\n",
    "#valeurs propres (eigenvalues) et vecteurs propres (eigenvectors) de la matrice de covariance\n",
    "#ils nous donnent les composantes principales et nous permettent de projeter nos données à haute dimension dans une dimension réduite\n",
    "#on a autant de valeurs/vecteurs propres que de descripteur\n",
    "#ous pouvons visualiser les vecteurs propres, triés par rang de valeur propre, et identifier visuellement les composantes des vecteurs propres \n",
    "#qui dominent dans chaque valeur propre. Il s'agit essentiellement d'une visualisation des informations que l'analyse en composantes principales \n",
    "#a jugées les plus importantes.\n",
    "egnvalues, egnvectors = np.linalg.eigh(matrix_cov)\n",
    "\n",
    "print(\"Nombre de valeurs propres: \"+str(egnvalues.shape))\n",
    "print(\"Nombre de vecteurs propres: \"+str(egnvectors.shape))\n",
    "\n",
    "#on peut déterminer quelle composantes choisir en regardant la proportion de variance\n",
    "#cela nous informe sur le nombre d'information représenté dans chaque composante\n",
    "#VARIANCE EXPLIQUEE\n",
    "#The explained variance of the  kth  principal component (given  d  total principal components) is given by:\n",
    "#expliquée => λk/λ1+λ2+⋯+λk+⋯+λd\n",
    "#cumulée => λ1+λ2+⋯+λk/λ1+λ2+⋯+λk+⋯+λd\n",
    "tot_egnvalues = sum(egnvalues)\n",
    "varexpl = [(i/tot_egnvalues) for i in sorted(egnvalues, reverse=True)]\n",
    "\n",
    "# ===> on regarde ensuite sur le graphe de l'inertie cumulée/expliquée en fonction du nombre de composantes\n",
    "#on regarde quel graphe/critère utiliser en fonction du type de dimensionnalité (haute ou basse)\n",
    "#selon le nombre de composantes, on prend leurs vecteurs propres associés (si 2 composantes est optimal, on prend e1 et e2)\n",
    "\n",
    "#on peut maintenant déterminer notre matrice de passage pour la projection des données dans cette nouvelle dimension\n",
    "#on veut passer d'une dimension (N, 64) à (N, nbr_composantes)\n",
    "pca = PCA(n_components=30)\n",
    "P = pca.fit_transform(X_norm)\n",
    "print(\"Nouvelle dimension : \"+str(P.shape))\n",
    "\n",
    "#la matrice de passage regroupe enfaite les n_composantes optimales pour en faire\n",
    "#la transposée (on veut les colonnes en lignes):\n",
    "matricepassage = (egnvectors[0:30]).T\n",
    "print(\"Matrice de passage : \"+str(matricepassage))\n",
    "\n",
    "#on redimensionne nos données avec : C = matricepassage (X – m) = [c1 c2]^T\n",
    "#on utilise normalement transform ou fit_transform\n",
    "\n"
   ]
  },
  {
   "cell_type": "code",
   "execution_count": null,
   "id": "121b47aa",
   "metadata": {},
   "outputs": [],
   "source": []
  }
 ],
 "metadata": {
  "kernelspec": {
   "display_name": "Python 3",
   "language": "python",
   "name": "python3"
  },
  "language_info": {
   "codemirror_mode": {
    "name": "ipython",
    "version": 3
   },
   "file_extension": ".py",
   "mimetype": "text/x-python",
   "name": "python",
   "nbconvert_exporter": "python",
   "pygments_lexer": "ipython3",
   "version": "3.8.8"
  }
 },
 "nbformat": 4,
 "nbformat_minor": 5
}
