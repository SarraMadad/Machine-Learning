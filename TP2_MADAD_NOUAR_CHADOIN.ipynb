{
 "cells": [
  {
   "cell_type": "code",
   "execution_count": 70,
   "id": "1f7d5ff7",
   "metadata": {
    "scrolled": false
   },
   "outputs": [
    {
     "data": {
      "text/plain": [
       "array([[-0.423809,  0.173816],\n",
       "       [-0.732064, -0.07982 ],\n",
       "       [-0.284335,  0.717345],\n",
       "       [-0.243749,  0.341101],\n",
       "       [-0.602286,  0.552602],\n",
       "       [-0.017939,  0.529274],\n",
       "       [-0.018377,  0.476127],\n",
       "       [-0.325077,  0.219774],\n",
       "       [-0.233845,  0.233974],\n",
       "       [-0.272008,  0.377153],\n",
       "       [-0.362345,  0.174289],\n",
       "       [-0.134221,  0.206785],\n",
       "       [-0.462747,  0.83888 ],\n",
       "       [ 0.230128,  0.484696],\n",
       "       [-0.349767,  0.166431],\n",
       "       [-0.287185,  0.460453],\n",
       "       [-0.048976,  0.188674],\n",
       "       [-0.300848,  0.133441],\n",
       "       [-0.33958 ,  0.405485],\n",
       "       [-0.523756,  0.709127],\n",
       "       [-0.242065,  0.502921],\n",
       "       [-0.649714,  0.634877],\n",
       "       [-0.137087,  0.178805],\n",
       "       [ 0.090222,  0.355609],\n",
       "       [-0.488612,  0.40515 ],\n",
       "       [-0.101169,  0.167472],\n",
       "       [-0.002168,  0.140901],\n",
       "       [-0.714101,  0.703565],\n",
       "       [-0.675909,  0.473571],\n",
       "       [-0.172881,  0.309474],\n",
       "       [-0.41564 ,  0.672192],\n",
       "       [-0.143169,  0.528667],\n",
       "       [-0.111763,  0.22332 ],\n",
       "       [-0.137691,  0.805657],\n",
       "       [ 0.006894,  0.543136],\n",
       "       [-0.148518,  0.840489],\n",
       "       [-0.017959,  0.755267],\n",
       "       [-0.616282,  0.299726],\n",
       "       [-0.320616,  0.147776],\n",
       "       [-0.354848,  0.452529],\n",
       "       [-0.71669 ,  0.388111],\n",
       "       [-0.251342,  0.259853],\n",
       "       [-0.579786,  0.595203],\n",
       "       [ 0.038117,  0.842883],\n",
       "       [-0.516941,  0.334141],\n",
       "       [-0.183482,  0.259071],\n",
       "       [-0.260838,  0.409176],\n",
       "       [-0.546144,  0.636516],\n",
       "       [-0.858337,  0.257211],\n",
       "       [-0.330465,  0.170432],\n",
       "       [-0.568327,  0.440793],\n",
       "       [-0.162052,  0.454437],\n",
       "       [-0.188733,  0.592084],\n",
       "       [ 0.107439,  0.321888],\n",
       "       [-0.167848,  0.433343],\n",
       "       [-0.476567,  0.362072],\n",
       "       [-0.220584,  0.450928],\n",
       "       [-0.567947,  0.854548],\n",
       "       [-0.320546,  0.31914 ],\n",
       "       [-0.327723,  0.13392 ],\n",
       "       [-0.315657,  0.588106],\n",
       "       [-0.395133,  0.244868],\n",
       "       [-0.041917,  0.47973 ],\n",
       "       [-0.784166,  0.313877],\n",
       "       [-0.208622,  0.60461 ],\n",
       "       [-0.091759,  0.608981],\n",
       "       [-0.132929,  0.419838],\n",
       "       [-0.171204, -0.042821],\n",
       "       [-0.30559 ,  0.5039  ],\n",
       "       [-0.146396,  0.868995],\n",
       "       [-0.173443,  0.725363],\n",
       "       [-0.37958 ,  0.07566 ],\n",
       "       [-0.410035,  0.451095],\n",
       "       [-0.38964 ,  0.300346],\n",
       "       [-0.684452,  0.214622],\n",
       "       [-0.374169,  0.162172],\n",
       "       [-0.286057,  0.542962],\n",
       "       [-0.236966,  0.363434],\n",
       "       [ 0.045209,  0.484711],\n",
       "       [-0.403412,  0.378792],\n",
       "       [-0.15986 ,  0.354517],\n",
       "       [-0.115906,  0.5635  ],\n",
       "       [-0.080446,  0.652831],\n",
       "       [-0.563691,  0.9988  ],\n",
       "       [-0.262659,  0.131436],\n",
       "       [-0.256198,  0.215108],\n",
       "       [-0.567609,  0.730219],\n",
       "       [-0.501179,  0.37331 ],\n",
       "       [-0.045094,  0.125444],\n",
       "       [-0.348543,  0.549646],\n",
       "       [-0.218198,  0.859071],\n",
       "       [-0.293671,  0.647734],\n",
       "       [-0.474535,  0.960106],\n",
       "       [-0.455562,  0.596896],\n",
       "       [-0.204755,  0.936892],\n",
       "       [-0.553144,  0.385807],\n",
       "       [-0.120373,  0.185815],\n",
       "       [-0.173428,  0.417979],\n",
       "       [-0.521097,  0.768321],\n",
       "       [-0.38207 ,  0.191708],\n",
       "       [ 0.636766, -0.581775],\n",
       "       [ 0.451263, -0.427092],\n",
       "       [ 0.624152, -0.468224],\n",
       "       [ 0.376499, -0.621878],\n",
       "       [ 0.554373, -0.26981 ],\n",
       "       [ 0.24079 , -0.449683],\n",
       "       [ 0.467511, -0.366936],\n",
       "       [ 0.610782, -0.554833],\n",
       "       [ 0.493324, -0.545702],\n",
       "       [ 0.726958, -0.400214],\n",
       "       [ 0.446783, -0.431346],\n",
       "       [ 0.192693, -0.170136],\n",
       "       [ 0.356729, -0.488634],\n",
       "       [ 0.699822, -0.115485],\n",
       "       [ 0.524491, -0.22109 ],\n",
       "       [ 0.598358, -0.73913 ],\n",
       "       [ 0.683105, -0.69945 ],\n",
       "       [ 0.223411, -0.533399],\n",
       "       [ 0.444773, -0.475241],\n",
       "       [ 0.435829, -0.446028],\n",
       "       [ 0.388754, -0.321826],\n",
       "       [ 0.514162, -0.555709],\n",
       "       [ 0.769627, -0.555592],\n",
       "       [ 0.535709, -0.477546],\n",
       "       [ 0.725592, -0.450438],\n",
       "       [ 0.437044, -0.405535],\n",
       "       [ 0.542603, -0.288624],\n",
       "       [ 0.424041, -0.354117],\n",
       "       [ 0.629515, -0.709961],\n",
       "       [ 0.503794, -0.342766],\n",
       "       [ 0.613495, -0.325646],\n",
       "       [ 0.641698, -0.351917],\n",
       "       [ 0.529726, -0.250856],\n",
       "       [ 0.674851, -0.398304],\n",
       "       [ 0.887868, -0.548317],\n",
       "       [ 0.62017 , -0.469768],\n",
       "       [ 0.539707, -0.814721],\n",
       "       [ 0.678446, -0.376376],\n",
       "       [ 0.549866, -0.429827],\n",
       "       [ 0.375414, -0.536034],\n",
       "       [ 0.614299, -0.545575],\n",
       "       [ 0.540724, -0.609468],\n",
       "       [ 0.500042, -0.454528],\n",
       "       [ 0.732943, -0.390467],\n",
       "       [ 0.820985, -0.496923],\n",
       "       [ 0.463091, -0.522353],\n",
       "       [ 0.556988, -0.452765],\n",
       "       [ 0.420327, -0.473582],\n",
       "       [ 0.64354 , -0.590958],\n",
       "       [ 0.186786, -0.253486],\n",
       "       [ 0.689992, -0.381232],\n",
       "       [ 0.57431 , -0.255227],\n",
       "       [ 0.580724, -0.522028],\n",
       "       [ 0.723491, -0.615176],\n",
       "       [ 0.500275, -0.326221],\n",
       "       [ 0.521504, -0.441188],\n",
       "       [ 0.3509  , -0.5608  ],\n",
       "       [ 0.291934, -0.460738],\n",
       "       [ 0.435942, -0.748696],\n",
       "       [ 0.583607, -0.284781],\n",
       "       [ 0.460293, -0.594547],\n",
       "       [ 0.341445, -0.550642],\n",
       "       [ 0.702378, -0.246446],\n",
       "       [ 0.434662, -0.583755],\n",
       "       [ 0.539782, -0.509297],\n",
       "       [ 0.541352, -0.523293],\n",
       "       [ 0.504059, -0.204406],\n",
       "       [ 0.600961, -0.435233],\n",
       "       [ 0.501873, -0.609527],\n",
       "       [ 0.291873, -0.616046],\n",
       "       [ 0.387128, -0.187017],\n",
       "       [ 0.577939, -0.15675 ],\n",
       "       [ 0.352986, -0.202108],\n",
       "       [ 0.489397, -0.635759],\n",
       "       [ 0.400269, -0.479399],\n",
       "       [ 0.365291, -0.477208],\n",
       "       [ 0.388303, -0.401244],\n",
       "       [ 0.481225, -0.533217],\n",
       "       [ 0.567525, -0.594016],\n",
       "       [ 0.524057, -0.51439 ],\n",
       "       [ 0.701093, -0.285055],\n",
       "       [ 0.504667, -0.091471],\n",
       "       [ 0.313844, -0.412975],\n",
       "       [ 0.542935, -0.487362],\n",
       "       [ 0.552181, -0.342118],\n",
       "       [ 0.588955, -0.520507],\n",
       "       [ 0.616449, -0.167996],\n",
       "       [ 0.733187, -0.281341],\n",
       "       [ 0.459302, -0.631503],\n",
       "       [ 0.580596, -0.547851],\n",
       "       [ 0.539498, -0.246229],\n",
       "       [ 0.454435, -0.389156],\n",
       "       [ 0.861921, -0.38841 ],\n",
       "       [ 0.502832, -0.703468],\n",
       "       [ 0.330045, -0.41319 ],\n",
       "       [ 0.80699 , -0.344523],\n",
       "       [ 0.590307, -0.542887],\n",
       "       [ 0.373619, -0.597759],\n",
       "       [ 0.634527, -0.475212],\n",
       "       [ 0.731942, -0.605473],\n",
       "       [-0.515339, -0.798472],\n",
       "       [-0.462729, -0.49002 ],\n",
       "       [-0.298617, -0.780397],\n",
       "       [-0.477632, -0.681108],\n",
       "       [-0.585911, -0.603789],\n",
       "       [-0.25948 , -0.544659],\n",
       "       [-0.380826, -0.593366],\n",
       "       [-0.469994, -0.321146],\n",
       "       [-0.403863, -0.338576],\n",
       "       [-0.58082 , -0.487906],\n",
       "       [-0.376156, -0.568099],\n",
       "       [-0.464333, -0.703012],\n",
       "       [-0.410862, -0.651072],\n",
       "       [-0.661709, -0.792767],\n",
       "       [-0.274258, -0.638051],\n",
       "       [-0.439444, -0.652508],\n",
       "       [-0.792179, -0.319177],\n",
       "       [-0.434117, -0.468888],\n",
       "       [-0.313456, -0.572123],\n",
       "       [-0.408827, -0.625786],\n",
       "       [-0.297491, -0.569448],\n",
       "       [-0.306632, -0.466943],\n",
       "       [-0.641023, -0.246344],\n",
       "       [-0.850449, -0.532838],\n",
       "       [-0.236299, -0.452376],\n",
       "       [-0.445989, -0.479963],\n",
       "       [-0.50156 , -0.498658],\n",
       "       [-0.565505, -0.431627],\n",
       "       [-0.734842, -0.392967],\n",
       "       [-0.471402, -0.575249],\n",
       "       [-0.71078 , -0.628992],\n",
       "       [-0.630501, -0.547865],\n",
       "       [-0.535905, -0.432368],\n",
       "       [-0.391221, -0.399485],\n",
       "       [-0.448248, -0.663277],\n",
       "       [-0.70642 , -0.445037],\n",
       "       [-0.282327, -0.607693],\n",
       "       [-0.499698, -0.632265],\n",
       "       [-0.22404 , -0.500648],\n",
       "       [-0.685957, -0.442055],\n",
       "       [-0.622003, -0.667409],\n",
       "       [-0.619703, -0.806662],\n",
       "       [-0.520688, -0.589423],\n",
       "       [-0.651167, -0.498918],\n",
       "       [-0.649207, -0.569347],\n",
       "       [-0.861484, -0.345243],\n",
       "       [-0.630336, -0.631487],\n",
       "       [-0.466006, -0.462598],\n",
       "       [-0.532183, -0.699591],\n",
       "       [-0.529751, -0.77134 ],\n",
       "       [-0.522157, -0.481873],\n",
       "       [-0.479335, -0.790766],\n",
       "       [-0.579789, -0.776956],\n",
       "       [-0.61037 , -0.672625],\n",
       "       [-0.428384, -0.805156],\n",
       "       [-0.567747, -0.49809 ],\n",
       "       [-0.470238, -0.623474],\n",
       "       [-0.648533, -0.775924],\n",
       "       [-0.526515, -0.715137],\n",
       "       [-0.392928, -0.729849],\n",
       "       [-0.638183, -0.592614],\n",
       "       [-0.483749, -0.94406 ],\n",
       "       [-0.54003 , -0.686024],\n",
       "       [-0.515927, -0.79058 ],\n",
       "       [-0.558394, -0.532424],\n",
       "       [-0.816254, -0.49209 ],\n",
       "       [-0.52614 , -0.559795],\n",
       "       [-0.295607, -0.597087],\n",
       "       [-0.406838, -0.977118],\n",
       "       [-0.561178, -0.577663],\n",
       "       [-0.603825, -0.713318],\n",
       "       [-0.467265, -0.621693],\n",
       "       [-0.562136, -0.631008],\n",
       "       [-0.58388 , -0.755608],\n",
       "       [-0.4963  , -0.494863],\n",
       "       [-0.316543, -0.545908],\n",
       "       [-0.882609, -0.634504],\n",
       "       [-0.41688 , -0.448057],\n",
       "       [-0.655818, -0.345127],\n",
       "       [-0.362966, -0.748097],\n",
       "       [-0.868202, -0.585761],\n",
       "       [-0.538183, -0.748466],\n",
       "       [-0.495898, -0.469246],\n",
       "       [-0.5683  , -0.506846],\n",
       "       [-0.535046, -0.65946 ],\n",
       "       [-0.73157 , -0.665753],\n",
       "       [-0.673561, -0.694877],\n",
       "       [-0.626859, -0.442999],\n",
       "       [-0.449616, -0.619149],\n",
       "       [-0.592524, -0.604347],\n",
       "       [-0.273997, -0.770634],\n",
       "       [-0.483598, -0.534978],\n",
       "       [-0.784023, -0.17833 ],\n",
       "       [-0.572737, -0.538417],\n",
       "       [-0.602419, -0.795292],\n",
       "       [-0.489111, -0.544853],\n",
       "       [-0.537703, -0.797237],\n",
       "       [-0.546465, -0.559585],\n",
       "       [-0.614658, -0.835832],\n",
       "       [-0.514288, -0.473993]])"
      ]
     },
     "execution_count": 70,
     "metadata": {},
     "output_type": "execute_result"
    }
   ],
   "source": [
    "#########################################################################\n",
    "############################# 1. Algorithme #############################\n",
    "#########################################################################\n",
    "'''\n",
    "On veut séparer nos données en clusters/groupes.\n",
    "1. On initialise les centres de nos clusters (centroïdes) => on choisit donc des valeurs aléatoires qui seront nos clusters\n",
    "2. On update les classes de nos clusters => on assigne les points au centre cluster le plus proche\n",
    "3. On update nos centroïdes par la moyenne de chaque cluster\n",
    "4. On itère sur les étapes 2/3 jusqu'à la convergence ou un nombre d'itérations max\n",
    "\n",
    "On a besoin :\n",
    "1. Tableau de données\n",
    "2. Tableau de centroïdes\n",
    "3. Tableau de clusters en fonction des centroïdes\n",
    "\n",
    "On a besoin aussi :\n",
    "- de la distance euclidienne\n",
    "- d'une boucle pour trier les points en cluster en fonction de cette distance.\n",
    "- recalculer les centroïdes\n",
    "- comparer les anciens et nouveaux centroïdes poursavoir quand s'arrêter\n",
    "'''\n",
    "#########################################################################\n",
    "############################# 2. Codage #############################\n",
    "#########################################################################\n",
    "################################## et ###################################\n",
    "#########################################################################\n",
    "############################# 3. Evaluation #############################\n",
    "#########################################################################\n",
    "\n",
    "import numpy as np\n",
    "import pandas as pd\n",
    "import matplotlib.pyplot as plt\n",
    "import seaborn as sns\n",
    "import random as rd\n",
    "\n",
    "dataset = pd.read_table('C:/Users/sarah/OneDrive/Bureau/Files/ESIEA/4A/MajeureDataIA/Ingénierie des données/TD2/base1.txt',header=None,sep=\" \")\n",
    "dataset.describe()\n",
    "X = dataset.iloc[:, [0, 1]].values #on enlève les classes/labels pour garder que x et y coordonnées des points\n",
    "X"
   ]
  },
  {
   "cell_type": "code",
   "execution_count": 71,
   "id": "725eff8f",
   "metadata": {},
   "outputs": [
    {
     "data": {
      "text/plain": [
       "array([ 0.173816, -0.07982 ,  0.717345,  0.341101,  0.552602,  0.529274,\n",
       "        0.476127,  0.219774,  0.233974,  0.377153,  0.174289,  0.206785,\n",
       "        0.83888 ,  0.484696,  0.166431,  0.460453,  0.188674,  0.133441,\n",
       "        0.405485,  0.709127,  0.502921,  0.634877,  0.178805,  0.355609,\n",
       "        0.40515 ,  0.167472,  0.140901,  0.703565,  0.473571,  0.309474,\n",
       "        0.672192,  0.528667,  0.22332 ,  0.805657,  0.543136,  0.840489,\n",
       "        0.755267,  0.299726,  0.147776,  0.452529,  0.388111,  0.259853,\n",
       "        0.595203,  0.842883,  0.334141,  0.259071,  0.409176,  0.636516,\n",
       "        0.257211,  0.170432,  0.440793,  0.454437,  0.592084,  0.321888,\n",
       "        0.433343,  0.362072,  0.450928,  0.854548,  0.31914 ,  0.13392 ,\n",
       "        0.588106,  0.244868,  0.47973 ,  0.313877,  0.60461 ,  0.608981,\n",
       "        0.419838, -0.042821,  0.5039  ,  0.868995,  0.725363,  0.07566 ,\n",
       "        0.451095,  0.300346,  0.214622,  0.162172,  0.542962,  0.363434,\n",
       "        0.484711,  0.378792,  0.354517,  0.5635  ,  0.652831,  0.9988  ,\n",
       "        0.131436,  0.215108,  0.730219,  0.37331 ,  0.125444,  0.549646,\n",
       "        0.859071,  0.647734,  0.960106,  0.596896,  0.936892,  0.385807,\n",
       "        0.185815,  0.417979,  0.768321,  0.191708, -0.581775, -0.427092,\n",
       "       -0.468224, -0.621878, -0.26981 , -0.449683, -0.366936, -0.554833,\n",
       "       -0.545702, -0.400214, -0.431346, -0.170136, -0.488634, -0.115485,\n",
       "       -0.22109 , -0.73913 , -0.69945 , -0.533399, -0.475241, -0.446028,\n",
       "       -0.321826, -0.555709, -0.555592, -0.477546, -0.450438, -0.405535,\n",
       "       -0.288624, -0.354117, -0.709961, -0.342766, -0.325646, -0.351917,\n",
       "       -0.250856, -0.398304, -0.548317, -0.469768, -0.814721, -0.376376,\n",
       "       -0.429827, -0.536034, -0.545575, -0.609468, -0.454528, -0.390467,\n",
       "       -0.496923, -0.522353, -0.452765, -0.473582, -0.590958, -0.253486,\n",
       "       -0.381232, -0.255227, -0.522028, -0.615176, -0.326221, -0.441188,\n",
       "       -0.5608  , -0.460738, -0.748696, -0.284781, -0.594547, -0.550642,\n",
       "       -0.246446, -0.583755, -0.509297, -0.523293, -0.204406, -0.435233,\n",
       "       -0.609527, -0.616046, -0.187017, -0.15675 , -0.202108, -0.635759,\n",
       "       -0.479399, -0.477208, -0.401244, -0.533217, -0.594016, -0.51439 ,\n",
       "       -0.285055, -0.091471, -0.412975, -0.487362, -0.342118, -0.520507,\n",
       "       -0.167996, -0.281341, -0.631503, -0.547851, -0.246229, -0.389156,\n",
       "       -0.38841 , -0.703468, -0.41319 , -0.344523, -0.542887, -0.597759,\n",
       "       -0.475212, -0.605473, -0.798472, -0.49002 , -0.780397, -0.681108,\n",
       "       -0.603789, -0.544659, -0.593366, -0.321146, -0.338576, -0.487906,\n",
       "       -0.568099, -0.703012, -0.651072, -0.792767, -0.638051, -0.652508,\n",
       "       -0.319177, -0.468888, -0.572123, -0.625786, -0.569448, -0.466943,\n",
       "       -0.246344, -0.532838, -0.452376, -0.479963, -0.498658, -0.431627,\n",
       "       -0.392967, -0.575249, -0.628992, -0.547865, -0.432368, -0.399485,\n",
       "       -0.663277, -0.445037, -0.607693, -0.632265, -0.500648, -0.442055,\n",
       "       -0.667409, -0.806662, -0.589423, -0.498918, -0.569347, -0.345243,\n",
       "       -0.631487, -0.462598, -0.699591, -0.77134 , -0.481873, -0.790766,\n",
       "       -0.776956, -0.672625, -0.805156, -0.49809 , -0.623474, -0.775924,\n",
       "       -0.715137, -0.729849, -0.592614, -0.94406 , -0.686024, -0.79058 ,\n",
       "       -0.532424, -0.49209 , -0.559795, -0.597087, -0.977118, -0.577663,\n",
       "       -0.713318, -0.621693, -0.631008, -0.755608, -0.494863, -0.545908,\n",
       "       -0.634504, -0.448057, -0.345127, -0.748097, -0.585761, -0.748466,\n",
       "       -0.469246, -0.506846, -0.65946 , -0.665753, -0.694877, -0.442999,\n",
       "       -0.619149, -0.604347, -0.770634, -0.534978, -0.17833 , -0.538417,\n",
       "       -0.795292, -0.544853, -0.797237, -0.559585, -0.835832, -0.473993])"
      ]
     },
     "execution_count": 71,
     "metadata": {},
     "output_type": "execute_result"
    }
   ],
   "source": [
    "X[:,0] #tous les x\n",
    "X[:,1] #tous les y"
   ]
  },
  {
   "cell_type": "code",
   "execution_count": 72,
   "id": "623cc50c",
   "metadata": {},
   "outputs": [
    {
     "data": {
      "image/png": "[encoded data removed]",
      "text/plain": [
       "<Figure size 432x288 with 1 Axes>"
      ]
     },
     "metadata": {},
     "output_type": "display_data"
    }
   ],
   "source": [
    "#dispersion originale des données\n",
    "\n",
    "plt.scatter(X[:,0],X[:,1],c='black',label='données sans cluster')\n",
    "plt.xlabel('x')\n",
    "plt.ylabel('y')\n",
    "plt.legend()\n",
    "plt.title('Nuage de points des données')\n",
    "plt.show()"
   ]
  },
  {
   "cell_type": "code",
   "execution_count": 73,
   "id": "749170ef",
   "metadata": {},
   "outputs": [
    {
     "data": {
      "image/png": "[encoded data removed]",
      "text/plain": [
       "<Figure size 432x288 with 1 Axes>"
      ]
     },
     "metadata": {},
     "output_type": "display_data"
    }
   ],
   "source": [
    "m = X.shape[0] #nombre de données d'entraînements, m = 300\n",
    "n = X.shape[1] #nombre de features, n=2\n",
    "n_iter=100 #nombre d'itérations\n",
    "K = 4 #nombre de clusters\n",
    "\n",
    "#tableau vide de centroïdes de 2 lignes (x et y) et 0 colonne car on aura plus tard autant de colonnes que de centroïdes par\n",
    "#concaténation\n",
    "Centroids=np.array([]).reshape(n,0) #on initialise les centroïdes à partir des données\n",
    "\n",
    "#on tire des lignes de X au hasard\n",
    "rand=rd.randint(0,m-1)\n",
    "X[rand]\n",
    "\n",
    "#Centroids est une matrice de dimension n (x et y) par K (nombre de clusters) par concaténation\n",
    "#chaque colonne est un centroïde pour un cluster\n",
    "for i in range(K):\n",
    "    rand=rd.randint(0,m-1) #il choisit des numéros de lignes au hasard\n",
    "    #on concatène le tableau vide avec les lignes de X correspondantes à celles tirées avec rand pour chaque K (nombre de cluster donc nombre de centroïdes)\n",
    "    Centroids=np.c_[Centroids,X[rand]]\n",
    "    \n",
    "#on initialise un tableau vide de 300 lignes (données) et 0 colonnes car on aura plus tard autant de colonnes que de centroïdes par\n",
    "#concaténation\n",
    "distanceuclidienne = np.array([]).reshape(m,0)\n",
    "\n",
    "#on calcule la distance entre les données et chaque centroïde\n",
    "for k in range(K):\n",
    "    distance=np.sum((X-Centroids[:,k])**2,axis=1)\n",
    "    distanceuclidienne=np.c_[distanceuclidienne,distance]\n",
    "#on retourne une liste de distances : 300 lignes (pour les données) et k colonnes (distances à chacun des centroïdes)    \n",
    "\n",
    "\n",
    "#on extrait l'indice de la valeur minimum de chaque ligne\n",
    "minim=np.argmin(distanceuclidienne,axis=1)+1 \n",
    "\n",
    "#on veut regrouper les données en cluster en se basant sur les index récupérés et les stocker dans un dictionnaire\n",
    "#on veut aussi calculer la moyenne de chaque cluster et assigner la valeur comme nouveau centroïde\n",
    "\n",
    "#Y est un dictionnaire qui représente un cluster à chaque index. Pour K=5, il y a donc 5 index. A chaque index est renvoyé la liste de\n",
    "#point et leurs coordonnées x et y associé à cet index\n",
    "clusters={}\n",
    "\n",
    "#on commence à indexer Y à 1 pour le 1er cluster et ainsi de suite jusqu'à K (nombre de clusters) puis on concatène avec les\n",
    "#données dans X\n",
    "for k in range(K):\n",
    "    clusters[k+1]=np.array([]).reshape(2,0)\n",
    "for i in range(m):\n",
    "    clusters[minim[i]]=np.c_[clusters[minim[i]],X[i]]    \n",
    "for k in range(K):\n",
    "    clusters[k+1]=clusters[k+1].T\n",
    "    \n",
    "#on calcule la moyenne dans chaque cluster/dictionnaire    \n",
    "for k in range(K):\n",
    "     Centroids[:,k]=np.mean(clusters[k+1],axis=0)\n",
    "\n",
    "#on itère\n",
    "for i in range(n_iter):\n",
    "    #distance euclidienne\n",
    "    distanceuclidienne=np.array([]).reshape(m,0)\n",
    "    for k in range(K):\n",
    "        distance=np.sum((X-Centroids[:,k])**2,axis=1)\n",
    "        distanceuclidienne=np.c_[distanceuclidienne,distance]\n",
    "    minim=np.argmin(distanceuclidienne,axis=1)+1\n",
    "    #classer en cluster dans un dictionnaire\n",
    "    clusters={}\n",
    "    for k in range(K):\n",
    "        clusters[k+1]=np.array([]).reshape(2,0)\n",
    "    for i in range(m):\n",
    "        clusters[minim[i]]=np.c_[clusters[minim[i]],X[i]]\n",
    "    for k in range(K):\n",
    "        clusters[k+1]=clusters[k+1].T    \n",
    "    for k in range(K):\n",
    "        Centroids[:,k]=np.mean(clusters[k+1],axis=0)   \n",
    "    Output=clusters\n",
    "#la sortie est le dictionnaire de cluster avec les points associés qu'on a juste à tracer ensuite\n",
    "\n",
    "#on plot les données dans leurs clusters\n",
    "color=['red','blue','green','cyan','magenta']\n",
    "labels=['cluster1','cluster2','cluster3','cluster4','cluster5']\n",
    "for k in range(K):\n",
    "    plt.scatter(clusters[k+1][:,0],clusters[k+1][:,1],c=color[k],label=labels[k]) \n",
    "plt.scatter(Centroids[0,:],Centroids[1,:],s=300,c='yellow',label='Centroids')\n",
    "plt.xlabel('x')\n",
    "plt.ylabel('y')\n",
    "plt.legend()\n",
    "plt.show()"
   ]
  },
  {
   "cell_type": "code",
   "execution_count": 74,
   "id": "5fd4a32b",
   "metadata": {},
   "outputs": [
    {
     "name": "stdout",
     "output_type": "stream",
     "text": [
      "[0.021725768699994742, 0.1873894228815129, 0.2606996803321468, 0.026262654637871096]\n",
      "0.49607752655152554\n"
     ]
    },
    {
     "data": {
      "text/plain": [
       "\"\\nOn a en sortie ici, la variance intra de chacun des clusters.\\nPour que le clustering soit bon, on veut minimiser la variance intra-cluster et maximiser la variance inter-cluster.\\nIl suffit de changer k dans la cellule d'avant, relancer cette cellule-ci et comparer et calculer les variances.\\n\""
      ]
     },
     "execution_count": 74,
     "metadata": {},
     "output_type": "execute_result"
    }
   ],
   "source": [
    "#calcul des variance intra-cluster\n",
    "variance = [] #tableau vide de variance (utile pour faire la somme et avoir le coût)\n",
    "\n",
    "for k in range(K):\n",
    "    variance.append(np.var(clusters[k+1]))\n",
    "    #print(np.var(Output[k+1]))\n",
    "\n",
    "print(variance)\n",
    "\n",
    "#coût\n",
    "print(sum(variance))\n",
    "'''\n",
    "On a en sortie ici, la variance intra de chacun des clusters.\n",
    "Pour que le clustering soit bon, on veut minimiser la variance intra-cluster et maximiser la variance inter-cluster.\n",
    "Il suffit de changer k dans la cellule d'avant, relancer cette cellule-ci et comparer et calculer les variances.\n",
    "'''"
   ]
  },
  {
   "cell_type": "code",
   "execution_count": 75,
   "id": "0b7a39f0",
   "metadata": {},
   "outputs": [
    {
     "name": "stderr",
     "output_type": "stream",
     "text": [
      "C:\\Users\\sarah\\anaconda3\\lib\\site-packages\\sklearn\\cluster\\_kmeans.py:881: UserWarning: KMeans is known to have a memory leak on Windows with MKL, when there are less chunks than available threads. You can avoid it by setting the environment variable OMP_NUM_THREADS=2.\n",
      "  warnings.warn(\n"
     ]
    },
    {
     "data": {
      "image/png": "[encoded data removed]",
      "text/plain": [
       "<Figure size 432x288 with 1 Axes>"
      ]
     },
     "metadata": {},
     "output_type": "display_data"
    },
    {
     "data": {
      "text/plain": [
       "'\\nOn voit clairement ici que le nombre optimal de k est 3.\\n'"
      ]
     },
     "execution_count": 75,
     "metadata": {},
     "output_type": "execute_result"
    }
   ],
   "source": [
    "#Méthode du Coude : trouver le nombre de k optimal\n",
    "from sklearn.cluster import KMeans\n",
    "wcss = []\n",
    "for i in range(1, 11):\n",
    "    kmeans = KMeans(n_clusters = i, init = 'k-means++', random_state = 42)\n",
    "    kmeans.fit(X)\n",
    "    wcss.append(kmeans.inertia_)\n",
    "plt.plot(range(1, 11), wcss)\n",
    "plt.title('Méthode du Coude')\n",
    "plt.xlabel('Nombre de clusters')\n",
    "plt.ylabel('Distance Euclidienne')\n",
    "plt.show()\n",
    "\n",
    "'''\n",
    "On voit clairement ici que le nombre optimal de k est 3.\n",
    "'''"
   ]
  },
  {
   "cell_type": "code",
   "execution_count": 76,
   "id": "0b39f59a",
   "metadata": {},
   "outputs": [
    {
     "name": "stdout",
     "output_type": "stream",
     "text": [
      "[0.26023425069450334, 0.026139082038534347, 0.01931524863405165, 0.24162033898266708, 0.1873894228815129]\n",
      "0.7346983432312693\n"
     ]
    }
   ],
   "source": [
    "'''\n",
    "On refait l'initialisation pour k = 5 et on compare les variances intra-clusters avec celles trouvées précédemment.\n",
    "'''\n",
    "K = 5\n",
    "Centroids=np.array([]).reshape(n,0) #on initialise les centroïdes à partir des données\n",
    "Centroids\n",
    "\n",
    "rand=rd.randint(0,m-1)\n",
    "X[rand]\n",
    "\n",
    "for i in range(K):\n",
    "    rand=rd.randint(0,m-1) #il choisit des numéros de lignes au hasard\n",
    "    #on concatène le tableau vide avec les lignes de X correspondantes à celles tirées avec rand pour chaque K (nombre de cluster donc nombre de centroïdes)\n",
    "    Centroids=np.c_[Centroids,X[rand]]\n",
    "\n",
    "distanceuclidienne = np.array([]).reshape(m,0)\n",
    "for k in range(K):\n",
    "    distance=np.sum((X-Centroids[:,k])**2,axis=1)\n",
    "    distanceuclidienne=np.c_[distanceuclidienne,distance]\n",
    "\n",
    "minim=np.argmin(distanceuclidienne,axis=1)+1 \n",
    "\n",
    "clusters={}\n",
    "#pour chaque K, \n",
    "for k in range(K):\n",
    "    clusters[k+1]=np.array([]).reshape(2,0)\n",
    "for i in range(m):\n",
    "    clusters[minim[i]]=np.c_[clusters[minim[i]],X[i]]\n",
    "     \n",
    "for k in range(K):\n",
    "    clusters[k+1]=clusters[k+1].T\n",
    "    \n",
    "#on calcule la moyenne dans chaque cluster/dictionnaire    \n",
    "for k in range(K):\n",
    "     Centroids[:,k]=np.mean(clusters[k+1],axis=0)\n",
    "\n",
    "#on itère\n",
    "for i in range(n_iter):\n",
    "    #distance euclidienne\n",
    "    distanceuclidienne=np.array([]).reshape(m,0)\n",
    "    for k in range(K):\n",
    "        distance=np.sum((X-Centroids[:,k])**2,axis=1)\n",
    "        distanceuclidienne=np.c_[distanceuclidienne,distance]\n",
    "    minim=np.argmin(distanceuclidienne,axis=1)+1\n",
    "    #classer en cluster dans un dictionnaire\n",
    "    clusters={}\n",
    "    for k in range(K):\n",
    "        clusters[k+1]=np.array([]).reshape(2,0)\n",
    "    for i in range(m):\n",
    "        clusters[minim[i]]=np.c_[clusters[minim[i]],X[i]]    \n",
    "    for k in range(K):\n",
    "        clusters[k+1]=clusters[k+1].T    \n",
    "    for k in range(K):\n",
    "        Centroids[:,k]=np.mean(clusters[k+1],axis=0) \n",
    "    Output=clusters\n",
    "\n",
    "#on affiche les variances intra-cluster\n",
    "variance = [] #tableau vide de variance (utile pour faire la somme et avoir le coût)\n",
    "\n",
    "for k in range(K):\n",
    "    variance.append(np.var(clusters[k+1]))\n",
    "    #print(np.var(Output[k+1]))\n",
    "\n",
    "print(variance)\n",
    "\n",
    "#coût\n",
    "print(sum(variance))"
   ]
  },
  {
   "cell_type": "code",
   "execution_count": 77,
   "id": "796f17be",
   "metadata": {},
   "outputs": [
    {
     "name": "stdout",
     "output_type": "stream",
     "text": [
      "[0.2606996803321468, 0.1873894228815129, 0.023167726368015593]\n",
      "0.4712568295816753\n"
     ]
    }
   ],
   "source": [
    "'''\n",
    "On refait l'initialisation pour k = 3 et on compare les variances intra-clusters avec celles trouvées précédemment.\n",
    "'''\n",
    "K = 3\n",
    "Centroids=np.array([]).reshape(n,0) #on initialise les centroïdes à partir des données\n",
    "Centroids\n",
    "\n",
    "rand=rd.randint(0,m-1)\n",
    "X[rand]\n",
    "\n",
    "for i in range(K):\n",
    "    rand=rd.randint(0,m-1) #il choisit des numéros de lignes au hasard\n",
    "    #on concatène le tableau vide avec les lignes de X correspondantes à celles tirées avec rand pour chaque K (nombre de cluster donc nombre de centroïdes)\n",
    "    Centroids=np.c_[Centroids,X[rand]]\n",
    "\n",
    "distanceuclidienne = np.array([]).reshape(m,0)\n",
    "for k in range(K):\n",
    "    distance=np.sum((X-Centroids[:,k])**2,axis=1)\n",
    "    distanceuclidienne=np.c_[distanceuclidienne,distance]\n",
    "\n",
    "minim=np.argmin(distanceuclidienne,axis=1)+1 \n",
    "\n",
    "clusters={}\n",
    "#pour chaque K, \n",
    "for k in range(K):\n",
    "    clusters[k+1]=np.array([]).reshape(2,0)\n",
    "for i in range(m):\n",
    "    clusters[minim[i]]=np.c_[clusters[minim[i]],X[i]]\n",
    "     \n",
    "for k in range(K):\n",
    "    clusters[k+1]=clusters[k+1].T\n",
    "    \n",
    "#on calcule la moyenne dans chaque cluster/dictionnaire    \n",
    "for k in range(K):\n",
    "     Centroids[:,k]=np.mean(clusters[k+1],axis=0)\n",
    "\n",
    "#on itère\n",
    "for i in range(n_iter):\n",
    "    #distance euclidienne\n",
    "    distanceuclidienne=np.array([]).reshape(m,0)\n",
    "    for k in range(K):\n",
    "        distance=np.sum((X-Centroids[:,k])**2,axis=1)\n",
    "        distanceuclidienne=np.c_[distanceuclidienne,distance]\n",
    "    minim=np.argmin(distanceuclidienne,axis=1)+1\n",
    "    #classer en cluster dans un dictionnaire\n",
    "    clusters={}\n",
    "    for k in range(K):\n",
    "        clusters[k+1]=np.array([]).reshape(2,0)\n",
    "    for i in range(m):\n",
    "        clusters[minim[i]]=np.c_[clusters[minim[i]],X[i]]    \n",
    "    for k in range(K):\n",
    "        clusters[k+1]=clusters[k+1].T    \n",
    "    for k in range(K):\n",
    "        Centroids[:,k]=np.mean(clusters[k+1],axis=0) \n",
    "    Output=clusters\n",
    "\n",
    "#on affiche les variances intra-cluster\n",
    "variance = [] #tableau vide de variance (utile pour faire la somme et avoir le coût)\n",
    "\n",
    "for k in range(K):\n",
    "    variance.append(np.var(clusters[k+1]))\n",
    "    #print(np.var(Output[k+1]))\n",
    "\n",
    "print(variance)\n",
    "\n",
    "#coût\n",
    "print(sum(variance))"
   ]
  },
  {
   "cell_type": "code",
   "execution_count": 78,
   "id": "1c31f319",
   "metadata": {},
   "outputs": [
    {
     "name": "stdout",
     "output_type": "stream",
     "text": [
      "[0.03888127168328395, 0.1873894228815129, 0.24162033898266708, 0.26023425069450334, 0.00975539307358471, 0.0184905924394096]\n",
      "0.7563712697549616\n"
     ]
    }
   ],
   "source": [
    "'''\n",
    "On refait l'initialisation pour k = 6 et on compare les variances intra-clusters avec celles trouvées précédemment.\n",
    "'''\n",
    "K = 6\n",
    "Centroids=np.array([]).reshape(n,0) #on initialise les centroïdes à partir des données\n",
    "Centroids\n",
    "\n",
    "rand=rd.randint(0,m-1)\n",
    "X[rand]\n",
    "\n",
    "for i in range(K):\n",
    "    rand=rd.randint(0,m-1) #il choisit des numéros de lignes au hasard\n",
    "    #on concatène le tableau vide avec les lignes de X correspondantes à celles tirées avec rand pour chaque K (nombre de cluster donc nombre de centroïdes)\n",
    "    Centroids=np.c_[Centroids,X[rand]]\n",
    "\n",
    "distanceuclidienne = np.array([]).reshape(m,0)\n",
    "for k in range(K):\n",
    "    distance=np.sum((X-Centroids[:,k])**2,axis=1)\n",
    "    distanceuclidienne=np.c_[distanceuclidienne,distance]\n",
    "\n",
    "minim=np.argmin(distanceuclidienne,axis=1)+1 \n",
    "\n",
    "clusters={}\n",
    "#pour chaque K, \n",
    "for k in range(K):\n",
    "    clusters[k+1]=np.array([]).reshape(2,0)\n",
    "for i in range(m):\n",
    "    clusters[minim[i]]=np.c_[clusters[minim[i]],X[i]]\n",
    "     \n",
    "for k in range(K):\n",
    "    clusters[k+1]=clusters[k+1].T\n",
    "    \n",
    "#on calcule la moyenne dans chaque cluster/dictionnaire    \n",
    "for k in range(K):\n",
    "     Centroids[:,k]=np.mean(clusters[k+1],axis=0)\n",
    "\n",
    "#on itère\n",
    "for i in range(n_iter):\n",
    "    #distance euclidienne\n",
    "    distanceuclidienne=np.array([]).reshape(m,0)\n",
    "    for k in range(K):\n",
    "        distance=np.sum((X-Centroids[:,k])**2,axis=1)\n",
    "        distanceuclidienne=np.c_[distanceuclidienne,distance]\n",
    "    minim=np.argmin(distanceuclidienne,axis=1)+1\n",
    "    #classer en cluster dans un dictionnaire\n",
    "    clusters={}\n",
    "    for k in range(K):\n",
    "        clusters[k+1]=np.array([]).reshape(2,0)\n",
    "    for i in range(m):\n",
    "        clusters[minim[i]]=np.c_[clusters[minim[i]],X[i]]    \n",
    "    for k in range(K):\n",
    "        clusters[k+1]=clusters[k+1].T    \n",
    "    for k in range(K):\n",
    "        Centroids[:,k]=np.mean(clusters[k+1],axis=0) \n",
    "    Output=clusters\n",
    "\n",
    "#on affiche les variances intra-cluster\n",
    "variance = [] #tableau vide de variance (utile pour faire la somme et avoir le coût)\n",
    "\n",
    "for k in range(K):\n",
    "    variance.append(np.var(clusters[k+1]))\n",
    "    #print(np.var(Output[k+1]))\n",
    "\n",
    "print(variance)\n",
    "\n",
    "#coût\n",
    "print(sum(variance))"
   ]
  },
  {
   "cell_type": "code",
   "execution_count": null,
   "id": "4845464d",
   "metadata": {},
   "outputs": [],
   "source": [
    "'''\n",
    "On compare les variances intra-cluster pour différentes valeurs de k :\n",
    "\n",
    "k = 3\n",
    "[0.1873894228815129, 0.023167726368015593, 0.2606996803321468]\n",
    "coût = 0.47125682958167525\n",
    "\n",
    "k = 4\n",
    "[0.12121062344751923, 0.2606996803321468, 0.023167726368015593, 0.2480942311274178]\n",
    "coût = 0.6531722612750994\n",
    "\n",
    "k = 5\n",
    "[0.019319306733454347, 0.2606996803321468, 0.00998406730261848, 0.03327289027879959, 0.1873894228815129]\n",
    "coût = 0.5106653675285321\n",
    "\n",
    "k = 6\n",
    "[0.3448218948099097, 0.1608638989385463, 0.030268305904113904, 0.020645572560126398, 0.1873894228815129, 0.23530630327835791]\n",
    "coût = 0.7575091581249263\n",
    "\n",
    "Il semble donc plus intéressants de prendre k = 3 car les variance intra sont basses ! \n",
    "Cela se confirme avec la méthode de coude qui montre que k optimal = 3.\n",
    "\n",
    "'''"
   ]
  },
  {
   "cell_type": "code",
   "execution_count": 79,
   "id": "ce62fb29",
   "metadata": {},
   "outputs": [
    {
     "data": {
      "image/png": "[encoded data removed]",
      "text/plain": [
       "<Figure size 432x288 with 1 Axes>"
      ]
     },
     "metadata": {},
     "output_type": "display_data"
    }
   ],
   "source": [
    "############################# Vérification #############################\n",
    "'''\n",
    "On peut vérifier nos résultats avec la fonction kmean de la librairie sklearn.\n",
    "'''\n",
    "####################################################################\n",
    "\n",
    "kmeans = KMeans(n_clusters = 3, init = 'random', random_state = 42)\n",
    "y_kmeans = kmeans.fit_predict(X)\n",
    "#visualisation des clusters\n",
    "plt.scatter(X[y_kmeans == 0, 0], X[y_kmeans == 0, 1], s = 100, c = 'red', label = 'Cluster 1')\n",
    "plt.scatter(X[y_kmeans == 1, 0], X[y_kmeans == 1, 1], s = 100, c = 'blue', label = 'Cluster 2')\n",
    "plt.scatter(X[y_kmeans == 2, 0], X[y_kmeans == 2, 1], s = 100, c = 'green', label = 'Cluster 3')\n",
    "plt.scatter(kmeans.cluster_centers_[:, 0], kmeans.cluster_centers_[:, 1], s = 300, c = 'yellow', label = 'Centroids')\n",
    "plt.title('Clusters')\n",
    "plt.xlabel('X')\n",
    "plt.ylabel('Y')\n",
    "plt.legend()\n",
    "plt.show()"
   ]
  },
  {
   "cell_type": "code",
   "execution_count": 80,
   "id": "af2a6b20",
   "metadata": {},
   "outputs": [
    {
     "data": {
      "image/png": "[encoded data removed]",
      "text/plain": [
       "<Figure size 432x288 with 1 Axes>"
      ]
     },
     "metadata": {},
     "output_type": "display_data"
    }
   ],
   "source": [
    "############################# On fait pareil pour base 3 #############################\n",
    "\n",
    "import numpy as np\n",
    "import pandas as pd\n",
    "import matplotlib.pyplot as plt\n",
    "import seaborn as sns\n",
    "import random as rd\n",
    "\n",
    "dataset = pd.read_table('C:/Users/sarah/OneDrive/Bureau/Files/ESIEA/4A/MajeureDataIA/Ingénierie des données/TD2/base3.txt',header=None,sep=\" \")\n",
    "dataset.describe()\n",
    "Xb3 = dataset.iloc[:, [0, 1]].values #on enlève les classes/labels pour garder que x et y coordonnées des points\n",
    "Xb3\n",
    "\n",
    "m = Xb3.shape[0] #nombre de données d'entraînements\n",
    "n = Xb3.shape[1] #nombre de features\n",
    "n_iter=100 #nombre d'itérations\n",
    "K = 6 #nombre de clusters\n",
    "\n",
    "#tableau vide de centroïdes de 2 lignes (x et y) et 0 colonne car on aura plus tard autant de colonnes que de centroïdes par\n",
    "#concaténation\n",
    "Centroids=np.array([]).reshape(n,0) #on initialise les centroïdes à partir des données\n",
    "\n",
    "#on tire des lignes de X au hasard\n",
    "rand=rd.randint(0,m-1)\n",
    "Xb3[rand]\n",
    "\n",
    "#Centroids est une matrice de dimension n (x et y) par K (nombre de clusters) par concaténation\n",
    "#chaque colonne est un centroïde pour un cluster\n",
    "for i in range(K):\n",
    "    rand=rd.randint(0,m-1) #il choisit des numéros de lignes au hasard\n",
    "    #on concatène le tableau vide avec les lignes de X correspondantes à celles tirées avec rand pour chaque K (nombre de cluster donc nombre de centroïdes)\n",
    "    Centroids=np.c_[Centroids,Xb3[rand]]\n",
    "    \n",
    "#on initialise un tableau vide de 300 lignes (données) et 0 colonnes car on aura plus tard autant de colonnes que de centroïdes par\n",
    "#concaténation\n",
    "distanceuclidienne = np.array([]).reshape(m,0)\n",
    "\n",
    "#on calcule la distance entre les données et chaque centroïde\n",
    "for k in range(K):\n",
    "    distance=np.sum((Xb3-Centroids[:,k])**2,axis=1)\n",
    "    distanceuclidienne=np.c_[distanceuclidienne,distance]\n",
    "#on retourne une liste de distances : 300 lignes (pour les données) et k colonnes (distances à chacun des centroïdes)    \n",
    "\n",
    "\n",
    "#on extrait l'indice de la valeur minimum de chaque ligne\n",
    "minim=np.argmin(distanceuclidienne,axis=1)+1 \n",
    "\n",
    "#on veut regrouper les données en cluster en se basant sur les index récupérés et les stocker dans un dictionnaire\n",
    "#on veut aussi calculer la moyenne de chaque cluster et assigner la valeur comme nouveau centroïde\n",
    "\n",
    "#Y est un dictionnaire qui représente un cluster à chaque index. Pour K=5, il y a donc 5 index. A chaque index est renvoyé la liste de\n",
    "#point et leurs coordonnées x et y associé à cet index\n",
    "clusters={}\n",
    "\n",
    "#on commence à indexer Y à 1 pour le 1er cluster et ainsi de suite jusqu'à K (nombre de clusters) puis on concatène avec les\n",
    "#données dans X\n",
    "for k in range(K):\n",
    "    clusters[k+1]=np.array([]).reshape(2,0)\n",
    "for i in range(m):\n",
    "    clusters[minim[i]]=np.c_[clusters[minim[i]],Xb3[i]]    \n",
    "for k in range(K):\n",
    "    clusters[k+1]=clusters[k+1].T\n",
    "    \n",
    "#on calcule la moyenne dans chaque cluster/dictionnaire    \n",
    "for k in range(K):\n",
    "     Centroids[:,k]=np.mean(clusters[k+1],axis=0)\n",
    "\n",
    "#on itère\n",
    "for i in range(n_iter):\n",
    "    #distance euclidienne\n",
    "    distanceuclidienne=np.array([]).reshape(m,0)\n",
    "    for k in range(K):\n",
    "        distance=np.sum((Xb3-Centroids[:,k])**2,axis=1)\n",
    "        distanceuclidienne=np.c_[distanceuclidienne,distance]\n",
    "    minim=np.argmin(distanceuclidienne,axis=1)+1\n",
    "    #classer en cluster dans un dictionnaire\n",
    "    clusters={}\n",
    "    for k in range(K):\n",
    "        clusters[k+1]=np.array([]).reshape(2,0)\n",
    "    for i in range(m):\n",
    "        clusters[minim[i]]=np.c_[clusters[minim[i]],Xb3[i]]\n",
    "    for k in range(K):\n",
    "        clusters[k+1]=clusters[k+1].T    \n",
    "    for k in range(K):\n",
    "        Centroids[:,k]=np.mean(clusters[k+1],axis=0)   \n",
    "    Output=clusters\n",
    "#la sortie est le dictionnaire de cluster avec les points associés qu'on a juste à tracer ensuite\n",
    "\n",
    "#on plot les données dans leurs clusters\n",
    "color=['red','blue','green','cyan','magenta', 'black']\n",
    "labels=['cluster1','cluster2','cluster3','cluster4','cluster5', 'cluster6']\n",
    "for k in range(K):\n",
    "    plt.scatter(clusters[k+1][:,0],clusters[k+1][:,1],c=color[k],label=labels[k]) \n",
    "plt.scatter(Centroids[0,:],Centroids[1,:],s=300,c='yellow',label='Centroids')\n",
    "plt.xlabel('x')\n",
    "plt.ylabel('y')\n",
    "plt.legend()\n",
    "plt.show()\n"
   ]
  },
  {
   "cell_type": "code",
   "execution_count": 112,
   "id": "d5d6f2fa",
   "metadata": {},
   "outputs": [
    {
     "name": "stderr",
     "output_type": "stream",
     "text": [
      "C:\\Users\\sarah\\anaconda3\\lib\\site-packages\\sklearn\\cluster\\_kmeans.py:881: UserWarning: KMeans is known to have a memory leak on Windows with MKL, when there are less chunks than available threads. You can avoid it by setting the environment variable OMP_NUM_THREADS=3.\n",
      "  warnings.warn(\n"
     ]
    },
    {
     "data": {
      "image/png": "[encoded data removed]",
      "text/plain": [
       "<Figure size 432x288 with 1 Axes>"
      ]
     },
     "metadata": {
      "needs_background": "light"
     },
     "output_type": "display_data"
    },
    {
     "data": {
      "text/plain": [
       "'\\nEn regardant le coude, on voit que le nombre optimal de k est entre 5 et 6.\\n'"
      ]
     },
     "execution_count": 112,
     "metadata": {},
     "output_type": "execute_result"
    }
   ],
   "source": [
    "#Méthode du Coude : trouver le nombre de k optimal\n",
    "from sklearn.cluster import KMeans\n",
    "wcss = []\n",
    "for i in range(1, 11):\n",
    "    kmeans = KMeans(n_clusters = i, init = 'k-means++', random_state = 42)\n",
    "    kmeans.fit(Xb3)\n",
    "    wcss.append(kmeans.inertia_)\n",
    "plt.plot(range(1, 11), wcss)\n",
    "plt.title('Méthode du Coude')\n",
    "plt.xlabel('Nombre de clusters')\n",
    "plt.ylabel('Distance Euclidienne')\n",
    "plt.show()\n",
    "\n",
    "\n",
    "'''\n",
    "En regardant le coude, on voit que le nombre optimal de k est entre 5 et 6.\n",
    "'''"
   ]
  },
  {
   "cell_type": "code",
   "execution_count": 113,
   "id": "64054fa3",
   "metadata": {},
   "outputs": [
    {
     "name": "stdout",
     "output_type": "stream",
     "text": [
      "0.0990238401365682\n",
      "0.03506661786951206\n",
      "0.1452460087591105\n",
      "0.032785840158785606\n",
      "0.4514596809596511\n",
      "0.06796442256687721\n"
     ]
    },
    {
     "data": {
      "text/plain": [
       "\"\\nOn a en sortie ici, la variance intra de chacun des 6 clusters.\\nPour que le clustering soit bon, on veut minimiser la variance intra-cluster et maximiser la variance inter-cluster.\\nIl suffit de changer k dans la cellule d'avant, relancer cette cellule-ci et comparer et calculer les variances.\\n\""
      ]
     },
     "execution_count": 113,
     "metadata": {},
     "output_type": "execute_result"
    }
   ],
   "source": [
    "#calcul des variance intra-cluster\n",
    "\n",
    "for k in range(K):\n",
    "    print(np.var(Output[k+1]))\n",
    "    \n",
    "'''\n",
    "On a en sortie ici, la variance intra de chacun des 6 clusters.\n",
    "Pour que le clustering soit bon, on veut minimiser la variance intra-cluster et maximiser la variance inter-cluster.\n",
    "Il suffit de changer k dans la cellule d'avant, relancer cette cellule-ci et comparer et calculer les variances.\n",
    "'''"
   ]
  },
  {
   "cell_type": "code",
   "execution_count": 168,
   "id": "e364d24c",
   "metadata": {},
   "outputs": [
    {
     "name": "stdout",
     "output_type": "stream",
     "text": [
      "(1797, 64)\n"
     ]
    }
   ],
   "source": [
    "#########################################################################\n",
    "############################# 4. Application #############################\n",
    "#########################################################################\n",
    "'''\n",
    "On souhaite reconnaître des chiffres manuscrits. Télécharger la base Digits et la séparer en deux bases d’apprentissage (70%) et de test (fonction traintestsplit).\n",
    "\n",
    "Clustering : \n",
    "Déterminer k=10 clusters et mesurer leur pureté p. Pour le cluster i :\n",
    "pi = #exemples de la classe majoritaire du cluster/ #exemples dans le cluster\n",
    "\n",
    "Estimer la moyenne et la variance de p. Que peut-on conclure ?\n",
    "Effectuer plusieurs initialisations et répéter les expériences précédentes. Conclure.\n",
    "\n",
    "Classification :\n",
    "Utiliser l’algorithme des k-moyennes pour déterminer, dans chaque classe, k’ centroïdes (k’ = 1, 2, …).\n",
    "Utiliser l’algorithme du plus-proche-voisin pour classer la base de test en utilisant comme base d’apprentissage les 10k’ centroïdes précédents. \n",
    "Effectuer, pour chaque valeur de k’, plusieurs initialisations et estimer la moyenne et la variance des taux de reconnaissance obtenus. Rapporter ces résultats dans un tableau/graphe. Conclure. \n",
    "'''\n",
    "import matplotlib.pyplot as plt\n",
    "from sklearn.datasets import load_digits\n",
    "from sklearn.cluster import KMeans\n",
    "import numpy as np\n",
    "import sklearn\n",
    "from sklearn.preprocessing import scale\n",
    "from sklearn import metrics\n",
    "from sklearn.model_selection import train_test_split\n",
    "from sklearn.metrics import accuracy_score\n",
    "\n",
    "\n",
    "digits = load_digits()\n",
    "print(digits.data.shape) #1797 exemples pour 64 descripteurs => dimension 64\n",
    "\n",
    "#on sépare les données en data et en target (label)\n",
    "#X = scale(digits.data)\n",
    "X = digits.data\n",
    "y = digits.target\n",
    "\n",
    "#on initialise le nombre de cluster à 10 et on définit le nombre d'exemples et de descripteurs à 1767 et 64 \n",
    "k = 10\n",
    "samples, features = digits.data.shape"
   ]
  },
  {
   "cell_type": "code",
   "execution_count": 169,
   "id": "08c32ba9",
   "metadata": {},
   "outputs": [
    {
     "name": "stdout",
     "output_type": "stream",
     "text": [
      "Nombre de pixels :      64\n",
      "Nombre d'observations : 1797\n",
      "Nombre de classes :     10\n"
     ]
    }
   ],
   "source": [
    "print(\"Nombre de pixels :      {}\".format(X.shape[1]))\n",
    "print(\"Nombre d'observations : {}\".format(X.shape[0]))\n",
    "print(\"Nombre de classes :     {}\".format(len(np.unique(y))))"
   ]
  },
  {
   "cell_type": "code",
   "execution_count": 170,
   "id": "502e8468",
   "metadata": {},
   "outputs": [
    {
     "data": {
      "image/png": "[encoded data removed]",
      "text/plain": [
       "<Figure size 432x288 with 1 Axes>"
      ]
     },
     "metadata": {
      "needs_background": "light"
     },
     "output_type": "display_data"
    }
   ],
   "source": [
    "#plt.gray()\n",
    "#plt.matshow(digits.images[0])\n",
    "#plt.show()\n",
    "\n",
    "\n",
    "imgplot = plt.imshow(np.reshape(np.mean(X[y == 0, :], axis=0), (8, 8)),\n",
    "                     cmap='gray', aspect='equal', interpolation='nearest')"
   ]
  },
  {
   "cell_type": "code",
   "execution_count": 171,
   "id": "de5c54ef",
   "metadata": {},
   "outputs": [
    {
     "name": "stdout",
     "output_type": "stream",
     "text": [
      "(1257, 64) (540, 64) (1257,) (540,)\n"
     ]
    }
   ],
   "source": [
    "#on sépare la base en 70% de données d'apprentissage et donc 30% de données test\n",
    "'''\n",
    "On procède de manière classique en réservant 70% des données pour la partie apprentissage, et 30% pour l'évaluation des classifieurs que \n",
    "l'on a construit sur la première partie. En effet il n'est pas raisonnable de tester la perfromance sur 100% des données. \n",
    "Cela donnera lieux à du sur-apprentissage (en: overfitting). \n",
    "La généralisation des méthodes apprises serait alors très mauvaise\n",
    "'''\n",
    "X_train, X_test, y_train, y_test = train_test_split(X, y, test_size=0.3)\n",
    "print(X_train.shape, X_test.shape, y_train.shape, y_test.shape)\n"
   ]
  },
  {
   "cell_type": "code",
   "execution_count": 172,
   "id": "6b108843",
   "metadata": {},
   "outputs": [],
   "source": [
    "#on choisit notre modèle avec un nombre de clusters à 10\n",
    "model = KMeans(n_clusters=10)"
   ]
  },
  {
   "cell_type": "code",
   "execution_count": 173,
   "id": "a6abed37",
   "metadata": {},
   "outputs": [
    {
     "data": {
      "text/plain": [
       "KMeans(n_clusters=10)"
      ]
     },
     "execution_count": 173,
     "metadata": {},
     "output_type": "execute_result"
    }
   ],
   "source": [
    "#on rentre nos données d'entraînements dans le modèle\n",
    "#on l'entraîne\n",
    "model.fit(X_train, y_train)"
   ]
  },
  {
   "cell_type": "code",
   "execution_count": 174,
   "id": "64e4e212",
   "metadata": {},
   "outputs": [],
   "source": [
    "#on prédit ensuite les labels sur nos données de test\n",
    "predictions = model.predict(X_test)"
   ]
  },
  {
   "cell_type": "code",
   "execution_count": 175,
   "id": "eb19f038",
   "metadata": {},
   "outputs": [],
   "source": [
    "#accuracy : pourcentage de bonnes predictions\n",
    "\n",
    "from sklearn.metrics import accuracy_score\n",
    "from scipy.stats import mode\n",
    "\n",
    "#on match chaque cluster à son identité ---- trouvé sur internet car avant cette étape l'accuracy était anormale ! ----\n",
    "#en effet, le cluster ne sait pas qu'il est le chiffre 1 par exemple, il faut donc intégrer cette identité\n",
    "\n",
    "#clusters = model.fit_predict(X)\n",
    "clusters = model.predict(X)\n",
    "labels = np.zeros_like(clusters)\n",
    "for i in range(10):\n",
    "    mask = (clusters == i)\n",
    "    labels[mask] = mode(digits.target[mask])[0]\n",
    "    \n",
    "acc10 = accuracy_score(digits.target, labels)\n",
    "\n",
    "#pourcentage d'erreur du modèle (on peut changer cas pour changer ce % et dc améliorer la performance)\n",
    "#combien de nos prédictions sont correctement classées ?\n",
    "#en changeant le k on peut changer ce score\n",
    "#plusieurs méthodes\n",
    "\n",
    "#methode 1\n",
    "#1 - model.score(X_test, y_test)\n",
    "#methode 2\n",
    "#acc = np.sum(predictions == y_test)/len(y_test)\n",
    "#print(acc)\n",
    "#methode 3\n",
    "#model.score(X_test, y_test)"
   ]
  },
  {
   "cell_type": "code",
   "execution_count": 176,
   "id": "a0f215d3",
   "metadata": {},
   "outputs": [
    {
     "data": {
      "text/plain": [
       "0.8030050083472454"
      ]
     },
     "execution_count": 176,
     "metadata": {},
     "output_type": "execute_result"
    }
   ],
   "source": [
    "acc10"
   ]
  },
  {
   "cell_type": "code",
   "execution_count": 190,
   "id": "fe30cd13",
   "metadata": {},
   "outputs": [
    {
     "data": {
      "text/plain": [
       "array([[ 0.00000000e+00,  1.16438356e-01,  4.80136986e+00,\n",
       "         1.29383562e+01,  1.38767123e+01,  1.11506849e+01,\n",
       "         5.40410959e+00,  8.76712329e-01,  2.16840434e-18,\n",
       "         9.10958904e-01,  1.03082192e+01,  1.15821918e+01,\n",
       "         1.05136986e+01,  1.26369863e+01,  5.53424658e+00,\n",
       "         5.68493151e-01,  2.16840434e-18,  8.35616438e-01,\n",
       "         5.35616438e+00,  2.40410959e+00,  6.80136986e+00,\n",
       "         1.14794521e+01,  3.28767123e+00,  1.23287671e-01,\n",
       "         5.42101086e-19,  8.21917808e-01,  4.64383562e+00,\n",
       "         6.36986301e+00,  1.20821918e+01,  1.17602740e+01,\n",
       "         4.61643836e+00,  1.08420217e-18,  0.00000000e+00,\n",
       "         1.32191781e+00,  8.17123288e+00,  1.30205479e+01,\n",
       "         1.47465753e+01,  1.08287671e+01,  4.06164384e+00,\n",
       "         0.00000000e+00, -1.73472348e-18,  1.16438356e+00,\n",
       "         5.07534247e+00,  1.14452055e+01,  1.11780822e+01,\n",
       "         4.04794521e+00,  5.95890411e-01,  1.73472348e-17,\n",
       "         5.20417043e-18,  7.53424658e-02,  2.86301370e+00,\n",
       "         1.21849315e+01,  6.52739726e+00,  4.38356164e-01,\n",
       "         6.84931507e-03,  8.32667268e-17,  5.42101086e-19,\n",
       "         8.90410959e-02,  6.16438356e+00,  1.20958904e+01,\n",
       "         2.67808219e+00,  9.58904110e-02,  6.66133815e-16,\n",
       "        -5.55111512e-17],\n",
       "       [ 0.00000000e+00,  2.01298701e-01,  6.61688312e+00,\n",
       "         1.25909091e+01,  1.16558442e+01,  5.70129870e+00,\n",
       "         7.40259740e-01,  1.29870130e-02,  1.73472348e-18,\n",
       "         2.64285714e+00,  1.40064935e+01,  9.11038961e+00,\n",
       "         9.81168831e+00,  1.02792208e+01,  1.10389610e+00,\n",
       "         6.49350649e-03,  1.73472348e-18,  4.34415584e+00,\n",
       "         1.28246753e+01,  4.72077922e+00,  7.28571429e+00,\n",
       "         1.12532468e+01,  1.75324675e+00, -1.38777878e-17,\n",
       "         4.33680869e-19,  2.38311688e+00,  1.05194805e+01,\n",
       "         1.18246753e+01,  1.31623377e+01,  1.28246753e+01,\n",
       "         2.61038961e+00,  8.67361738e-19,  0.00000000e+00,\n",
       "         3.05194805e-01,  2.99350649e+00,  5.27922078e+00,\n",
       "         5.64935065e+00,  1.21038961e+01,  4.59740260e+00,\n",
       "         0.00000000e+00, -3.46944695e-18,  2.72727273e-01,\n",
       "         1.83766234e+00,  1.35714286e+00,  1.07142857e+00,\n",
       "         1.08766234e+01,  6.83766234e+00,  1.38777878e-17,\n",
       "         5.20417043e-18,  7.98701299e-01,  8.00649351e+00,\n",
       "         5.60389610e+00,  4.70129870e+00,  1.22142857e+01,\n",
       "         6.21428571e+00,  7.14285714e-02,  4.33680869e-19,\n",
       "         2.14285714e-01,  6.56493506e+00,  1.34480519e+01,\n",
       "         1.44935065e+01,  1.00454545e+01,  2.39610390e+00,\n",
       "         9.74025974e-02],\n",
       "       [ 0.00000000e+00,  0.00000000e+00,  2.66666667e-01,\n",
       "         6.92380952e+00,  1.20857143e+01,  1.94285714e+00,\n",
       "         1.14285714e-01,  7.61904762e-02,  1.30104261e-18,\n",
       "         9.52380952e-03,  3.04761905e+00,  1.35238095e+01,\n",
       "         8.75238095e+00,  1.87619048e+00,  9.52380952e-01,\n",
       "         1.80952381e-01,  1.30104261e-18,  5.61904762e-01,\n",
       "         1.04666667e+01,  1.14285714e+01,  4.64761905e+00,\n",
       "         5.36190476e+00,  3.52380952e+00,  2.95238095e-01,\n",
       "         3.25260652e-19,  4.71428571e+00,  1.45523810e+01,\n",
       "         6.08571429e+00,  6.84761905e+00,  1.04571429e+01,\n",
       "         6.01904762e+00,  1.90476190e-02,  0.00000000e+00,\n",
       "         8.98095238e+00,  1.46666667e+01,  9.17142857e+00,\n",
       "         1.25714286e+01,  1.46666667e+01,  5.94285714e+00,\n",
       "         0.00000000e+00,  1.33333333e-01,  6.82857143e+00,\n",
       "         1.19047619e+01,  1.25714286e+01,  1.48666667e+01,\n",
       "         1.08000000e+01,  1.64761905e+00,  1.04083409e-17,\n",
       "         9.52380952e-02,  1.29523810e+00,  3.06666667e+00,\n",
       "         7.80000000e+00,  1.38952381e+01,  4.24761905e+00,\n",
       "         1.90476190e-02,  2.77555756e-17,  3.25260652e-19,\n",
       "         3.80952381e-02,  3.14285714e-01,  7.64761905e+00,\n",
       "         1.22666667e+01,  1.94285714e+00, -2.22044605e-16,\n",
       "         5.55111512e-17],\n",
       "       [ 0.00000000e+00,  8.68421053e-01,  9.53508772e+00,\n",
       "         1.31666667e+01,  1.42280702e+01,  1.23684211e+01,\n",
       "         4.02631579e+00,  2.63157895e-02,  8.77192982e-03,\n",
       "         4.16666667e+00,  1.47192982e+01,  1.22894737e+01,\n",
       "         8.18421053e+00,  6.60526316e+00,  2.38596491e+00,\n",
       "         3.50877193e-02,  1.75438596e-02,  5.92105263e+00,\n",
       "         1.44649123e+01,  5.42982456e+00,  1.79824561e+00,\n",
       "         1.24561404e+00,  3.24561404e-01,  0.00000000e+00,\n",
       "         8.77192982e-03,  5.56140351e+00,  1.45438596e+01,\n",
       "         1.22631579e+01,  8.10526316e+00,  2.75438596e+00,\n",
       "         2.01754386e-01,  8.67361738e-19,  0.00000000e+00,\n",
       "         2.13157895e+00,  8.64912281e+00,  1.01315789e+01,\n",
       "         1.03421053e+01,  6.07017544e+00,  8.59649123e-01,\n",
       "         0.00000000e+00,  0.00000000e+00,  2.80701754e-01,\n",
       "         1.32456140e+00,  4.23684211e+00,  9.50877193e+00,\n",
       "         7.61403509e+00,  9.21052632e-01,  1.38777878e-17,\n",
       "         5.20417043e-18,  6.40350877e-01,  4.60526316e+00,\n",
       "         8.78947368e+00,  1.22631579e+01,  5.88596491e+00,\n",
       "         4.21052632e-01,  5.55111512e-17,  4.33680869e-19,\n",
       "         7.98245614e-01,  1.02192982e+01,  1.46228070e+01,\n",
       "         8.42105263e+00,  1.22807018e+00,  8.77192982e-03,\n",
       "         5.55111512e-17],\n",
       "       [ 0.00000000e+00,  0.00000000e+00,  1.33870968e+00,\n",
       "         1.12741935e+01,  9.57258065e+00,  1.53225806e+00,\n",
       "         4.03225806e-02, -5.55111512e-17,  1.73472348e-18,\n",
       "         8.87096774e-02,  7.50806452e+00,  1.46129032e+01,\n",
       "         5.86290323e+00,  9.59677419e-01,  4.03225806e-02,\n",
       "        -2.77555756e-17,  1.73472348e-18,  7.50000000e-01,\n",
       "         1.26451613e+01,  9.15322581e+00,  8.38709677e-01,\n",
       "         2.82258065e-01,  0.00000000e+00, -6.93889390e-18,\n",
       "         4.33680869e-19,  2.37903226e+00,  1.35887097e+01,\n",
       "         8.08870968e+00,  4.60483871e+00,  2.44354839e+00,\n",
       "         1.45161290e-01,  8.67361738e-19,  0.00000000e+00,\n",
       "         3.46774194e+00,  1.47419355e+01,  1.32338710e+01,\n",
       "         1.25161290e+01,  1.12177419e+01,  3.22580645e+00,\n",
       "         0.00000000e+00, -1.73472348e-18,  1.91129032e+00,\n",
       "         1.44677419e+01,  1.04354839e+01,  4.64516129e+00,\n",
       "         9.90322581e+00,  9.66129032e+00,  2.50000000e-01,\n",
       "         5.20417043e-18,  2.09677419e-01,  1.01290323e+01,\n",
       "         1.26129032e+01,  5.25000000e+00,  1.12983871e+01,\n",
       "         1.07580645e+01,  4.91935484e-01,  4.33680869e-19,\n",
       "         8.06451613e-03,  1.53225806e+00,  1.10000000e+01,\n",
       "         1.51048387e+01,  1.27903226e+01,  4.28225806e+00,\n",
       "         6.45161290e-02],\n",
       "       [ 0.00000000e+00,  1.09166667e+00,  1.04833333e+01,\n",
       "         1.45666667e+01,  8.15000000e+00,  1.05000000e+00,\n",
       "        -2.22044605e-16, -6.93889390e-17,  1.66666667e-02,\n",
       "         5.56666667e+00,  1.39083333e+01,  1.24833333e+01,\n",
       "         1.20583333e+01,  3.41666667e+00,  2.50000000e-02,\n",
       "        -2.77555756e-17,  1.66666667e-02,  4.67500000e+00,\n",
       "         7.65000000e+00,  5.87500000e+00,  1.24583333e+01,\n",
       "         3.65000000e+00,  2.50000000e-02, -6.93889390e-18,\n",
       "         4.33680869e-19,  9.58333333e-01,  2.64166667e+00,\n",
       "         6.77500000e+00,  1.24833333e+01,  2.67500000e+00,\n",
       "         4.44089210e-16,  8.67361738e-19,  0.00000000e+00,\n",
       "         3.33333333e-02,  1.82500000e+00,  1.01916667e+01,\n",
       "         1.01166667e+01,  1.45833333e+00,  8.88178420e-16,\n",
       "         0.00000000e+00, -1.73472348e-18,  3.16666667e-01,\n",
       "         5.16666667e+00,  1.12750000e+01,  7.27500000e+00,\n",
       "         2.23333333e+00,  7.50000000e-01,  1.38777878e-17,\n",
       "         5.20417043e-18,  1.59166667e+00,  1.16666667e+01,\n",
       "         1.35250000e+01,  1.15833333e+01,  1.09416667e+01,\n",
       "         7.45833333e+00,  9.41666667e-01,  4.33680869e-19,\n",
       "         1.06666667e+00,  1.06250000e+01,  1.43250000e+01,\n",
       "         1.35000000e+01,  1.26083333e+01,  8.60000000e+00,\n",
       "         2.69166667e+00],\n",
       "       [ 0.00000000e+00,  1.02857143e-01,  3.68571429e+00,\n",
       "         1.17542857e+01,  1.25314286e+01,  5.54285714e+00,\n",
       "         4.85714286e-01,  0.00000000e+00,  1.30104261e-18,\n",
       "         8.45714286e-01,  8.11428571e+00,  1.35942857e+01,\n",
       "         1.27314286e+01,  9.73714286e+00,  1.61714286e+00,\n",
       "        -1.38777878e-17,  1.30104261e-18,  1.21142857e+00,\n",
       "         8.42857143e+00,  1.18457143e+01,  1.21885714e+01,\n",
       "         9.34285714e+00,  1.04571429e+00, -1.38777878e-17,\n",
       "         3.25260652e-19,  9.37142857e-01,  7.21714286e+00,\n",
       "         1.42057143e+01,  1.41085714e+01,  4.98857143e+00,\n",
       "         1.82857143e-01,  6.50521303e-19,  0.00000000e+00,\n",
       "         8.28571429e-01,  8.23428571e+00,  1.48742857e+01,\n",
       "         1.30000000e+01,  2.08000000e+00,  2.28571429e-02,\n",
       "         0.00000000e+00, -3.46944695e-18,  1.36000000e+00,\n",
       "         1.05885714e+01,  1.18114286e+01,  1.22400000e+01,\n",
       "         4.32571429e+00,  2.34285714e-01,  1.04083409e-17,\n",
       "         1.71428571e-02,  9.25714286e-01,  9.47428571e+00,\n",
       "         1.14342857e+01,  1.20457143e+01,  5.97714286e+00,\n",
       "         6.62857143e-01,  8.32667268e-17,  5.71428571e-03,\n",
       "         1.08571429e-01,  3.92000000e+00,  1.18514286e+01,\n",
       "         1.27828571e+01,  4.97714286e+00,  7.42857143e-01,\n",
       "         1.14285714e-02],\n",
       "       [ 0.00000000e+00,  5.62962963e-01,  8.67407407e+00,\n",
       "         1.44074074e+01,  1.41333333e+01,  6.94814815e+00,\n",
       "         5.40740741e-01, -5.55111512e-17,  7.40740741e-03,\n",
       "         4.11111111e+00,  1.28370370e+01,  9.12592593e+00,\n",
       "         1.10666667e+01,  1.19555556e+01,  1.95555556e+00,\n",
       "         1.48148148e-02,  1.73472348e-18,  2.07407407e+00,\n",
       "         3.86666667e+00,  3.48148148e+00,  1.16814815e+01,\n",
       "         9.71111111e+00,  8.96296296e-01, -6.93889390e-18,\n",
       "         4.33680869e-19,  1.33333333e-01,  1.00740741e+00,\n",
       "         8.24444444e+00,  1.38962963e+01,  6.44444444e+00,\n",
       "         2.74074074e-01,  8.67361738e-19,  0.00000000e+00,\n",
       "         8.14814815e-02,  7.77777778e-01,  4.94074074e+00,\n",
       "         1.20814815e+01,  1.18222222e+01,  2.20000000e+00,\n",
       "         0.00000000e+00, -1.73472348e-18,  4.96296296e-01,\n",
       "         1.75555556e+00,  9.48148148e-01,  4.36296296e+00,\n",
       "         1.20592593e+01,  6.19259259e+00,  7.40740741e-03,\n",
       "         5.20417043e-18,  8.74074074e-01,  7.54814815e+00,\n",
       "         7.02222222e+00,  8.64444444e+00,  1.32962963e+01,\n",
       "         5.91111111e+00,  1.92592593e-01,  4.33680869e-19,\n",
       "         4.22222222e-01,  9.38518519e+00,  1.48000000e+01,\n",
       "         1.41259259e+01,  8.60740741e+00,  1.80000000e+00,\n",
       "         3.55555556e-01],\n",
       "       [ 0.00000000e+00,  3.33333333e-02,  3.98333333e+00,\n",
       "         1.32166667e+01,  1.15083333e+01,  3.14166667e+00,\n",
       "         4.16666667e-02, -6.93889390e-17,  1.73472348e-18,\n",
       "         8.33333333e-01,  1.24083333e+01,  1.35083333e+01,\n",
       "         1.14833333e+01,  1.15083333e+01,  1.08333333e+00,\n",
       "        -2.77555756e-17,  1.73472348e-18,  3.63333333e+00,\n",
       "         1.43416667e+01,  5.68333333e+00,  1.99166667e+00,\n",
       "         1.18416667e+01,  3.69166667e+00, -1.38777878e-17,\n",
       "         4.33680869e-19,  5.10833333e+00,  1.28750000e+01,\n",
       "         2.52500000e+00,  3.00000000e-01,  9.00000000e+00,\n",
       "         6.70000000e+00,  8.67361738e-19,  0.00000000e+00,\n",
       "         5.87500000e+00,  1.17833333e+01,  1.00000000e+00,\n",
       "         5.00000000e-02,  8.89166667e+00,  7.35833333e+00,\n",
       "         0.00000000e+00, -3.46944695e-18,  3.65000000e+00,\n",
       "         1.35000000e+01,  1.46666667e+00,  1.36666667e+00,\n",
       "         1.13166667e+01,  6.12500000e+00,  1.38777878e-17,\n",
       "         5.20417043e-18,  8.66666667e-01,  1.30500000e+01,\n",
       "         1.01750000e+01,  1.02250000e+01,  1.34750000e+01,\n",
       "         2.70833333e+00,  8.32667268e-17,  4.33680869e-19,\n",
       "         8.33333333e-03,  4.00833333e+00,  1.34666667e+01,\n",
       "         1.37166667e+01,  5.85833333e+00,  3.16666667e-01,\n",
       "         0.00000000e+00],\n",
       "       [ 0.00000000e+00,  0.00000000e+00,  4.68750000e-02,\n",
       "         1.81250000e+00,  1.10156250e+01,  1.28750000e+01,\n",
       "         3.93750000e+00,  9.37500000e-02,  8.67361738e-19,\n",
       "         6.25000000e-02,  2.01562500e+00,  9.01562500e+00,\n",
       "         1.41718750e+01,  1.30625000e+01,  4.81250000e+00,\n",
       "         1.56250000e-01,  8.67361738e-19,  1.76562500e+00,\n",
       "         9.34375000e+00,  1.29531250e+01,  1.29843750e+01,\n",
       "         1.33281250e+01,  3.40625000e+00,  1.09375000e-01,\n",
       "         2.16840434e-19,  3.89062500e+00,  1.23593750e+01,\n",
       "         1.24218750e+01,  1.37343750e+01,  1.36718750e+01,\n",
       "         1.93750000e+00,  4.33680869e-19,  0.00000000e+00,\n",
       "         1.70312500e+00,  6.12500000e+00,  6.85937500e+00,\n",
       "         1.19843750e+01,  1.25312500e+01,  1.48437500e+00,\n",
       "         0.00000000e+00,  1.73472348e-18,  6.71875000e-01,\n",
       "         1.68750000e+00,  3.87500000e+00,  1.24062500e+01,\n",
       "         1.15468750e+01,  1.26562500e+00,  6.93889390e-18,\n",
       "         3.46944695e-18,  4.68750000e-02,  1.71875000e-01,\n",
       "         3.23437500e+00,  1.31875000e+01,  1.16718750e+01,\n",
       "         1.89062500e+00,  0.00000000e+00,  2.16840434e-19,\n",
       "         5.55111512e-17,  8.88178420e-16,  1.92187500e+00,\n",
       "         1.15937500e+01,  1.10781250e+01,  1.75000000e+00,\n",
       "         5.55111512e-17]])"
      ]
     },
     "execution_count": 190,
     "metadata": {},
     "output_type": "execute_result"
    }
   ],
   "source": [
    "#voici les différents centroïdes\n",
    "len(model.cluster_centers_) #10 centroïdes pour les 10 clusters\n",
    "centroids = model.cluster_centers_ #coordonnées de chacun des centroïdes (64 coordonnées car dimension 64)\n",
    "centroids"
   ]
  },
  {
   "cell_type": "code",
   "execution_count": 191,
   "id": "79bc91cf",
   "metadata": {},
   "outputs": [
    {
     "data": {
      "image/png": "[encoded data removed]",
      "text/plain": [
       "<Figure size 576x216 with 10 Axes>"
      ]
     },
     "metadata": {},
     "output_type": "display_data"
    }
   ],
   "source": [
    "#représentation des centres des clusters => donc les centroïdes précédents\n",
    "#les différents clusters correspondent aux différents chiffres de 0 à 9\n",
    "fig, ax = plt.subplots(2, 5, figsize=(8, 3))\n",
    "centers = model.cluster_centers_.reshape(10, 8, 8)\n",
    "for axi, center in zip(ax.flat, centers):\n",
    "    axi.set(xticks=[], yticks=[])\n",
    "    axi.imshow(center, interpolation='nearest', cmap=plt.cm.binary)"
   ]
  },
  {
   "cell_type": "code",
   "execution_count": 193,
   "id": "b556b6ae",
   "metadata": {},
   "outputs": [
    {
     "data": {
      "text/plain": [
       "0.7448405093504473"
      ]
     },
     "execution_count": 193,
     "metadata": {},
     "output_type": "execute_result"
    }
   ],
   "source": [
    "'''\n",
    "Déterminer k=10 clusters et mesurer leur pureté p. Pour le cluster i :\n",
    "pi = #exemples de la classe majoritaire du cluster/ #exemples dans le cluster\n",
    "\n",
    "Estimer la moyenne et la variance de p. Que peut-on conclure ?\n",
    "Effectuer plusieurs initialisations et répéter les expériences précédentes. Conclure.\n",
    "\n",
    "RAPPEL : L’indice de pureté produit un résultat dans l’intervalle [0, 1], où une valeur de 1 indique\n",
    "que U et V sont identiques.\n",
    "La pureté d’un cluster est le pourcentage de données appartenant à la classe majoritaire.\n",
    "'''\n",
    "#pour calculer la pureté de chaque cluster, on veut un tableau de points liés aux centroides calculés plus tôt et qu'on\n",
    "#a représenté => centroids\n",
    "#pour cela, on calcule la distance euclidienne de chaque point aux centroïdes et on associe à chaque point le centroïde où la distance est la\n",
    "#minimale. On pourra donc faire le rapport des classes de chaque point lié pour mesurer la pureté pour chaque cluster.\n",
    "\n",
    "from sklearn.metrics import homogeneity_score\n",
    "\n",
    "homogeneity_score(digits['target'], labels)"
   ]
  },
  {
   "cell_type": "code",
   "execution_count": 34,
   "id": "5b3a2290",
   "metadata": {
    "scrolled": false
   },
   "outputs": [
    {
     "data": {
      "text/plain": [
       "array([ 1,  2,  3,  4,  5,  6,  7,  8,  9, 10])"
      ]
     },
     "execution_count": 34,
     "metadata": {},
     "output_type": "execute_result"
    }
   ],
   "source": [
    "len(centroids)\n",
    "indice = np.array([1, 2, 3, 4, 5, 6, 7, 8, 9, 10])\n",
    "indice"
   ]
  },
  {
   "cell_type": "code",
   "execution_count": 35,
   "id": "a14923b5",
   "metadata": {},
   "outputs": [
    {
     "data": {
      "text/plain": [
       "0.9777777777777777"
      ]
     },
     "execution_count": 35,
     "metadata": {},
     "output_type": "execute_result"
    }
   ],
   "source": [
    "#algorithme des plus proches voisins\n",
    "\n",
    "from sklearn.neighbors import KNeighborsClassifier\n",
    "from sklearn import neighbors\n",
    "\n",
    "X1 = centroids #données\n",
    "y1 = indice #indice de centroids\n",
    "\n",
    "# on divise en set d'entraînement et de tests\n",
    "#test_size = 0.3 <=> train_size = 0.7 \n",
    "X1_train, X1_test, y1_train, y1_test = train_test_split(X1, y1, test_size = 0.3)\n",
    "\n",
    "#on crée un classificateur avec k = 3\n",
    "model1 = neighbors.KNeighborsClassifier(n_neighbors=3)\n",
    "\n",
    "#on ajuste le modèle avec nos données et nos labels d'entraînement\n",
    "model1.fit(X1_train, y1_train)\n",
    "#knn.fit(X_train, y_train)\n",
    "\n",
    "#on veut prédire des labels sur nos données de test\n",
    "#print(knn.predict(X_test))\n",
    "predictions = model1.predict(X1_test)\n",
    "predictions\n",
    "\n",
    "#pourcentage d'erreur du modèle (on peut changer cas pour changer ce % et dc améliorer la performance)\n",
    "#combien de nos prédictions sont correctement classées ?\n",
    "#en changeant le k on peut changer ce score\n",
    "#plusieurs méthodes\n",
    "\n",
    "#methode 1\n",
    "1 - model1.score(X_test, y_test)\n",
    "#methode 2\n",
    "#acc = np.sum(predictions == y_test)/len(y_test)\n",
    "#print(acc)\n",
    "#methode 3\n",
    "#model.score(X_test, y_test)"
   ]
  },
  {
   "cell_type": "code",
   "execution_count": 36,
   "id": "29db4806",
   "metadata": {},
   "outputs": [],
   "source": [
    "#on crée une liste vide pour ajouter les résultats de taux de reconnaissance (accuracy)\n",
    "tauxrecoknn = []\n",
    "\n",
    "#on ajoute le 1er taux à la liste\n",
    "tauxrecoknn.append(1 - model1.score(X_test, y_test))\n"
   ]
  },
  {
   "cell_type": "code",
   "execution_count": 37,
   "id": "00eb0dd4",
   "metadata": {},
   "outputs": [],
   "source": [
    "#pour k = 4\n",
    "model2 = neighbors.KNeighborsClassifier(n_neighbors=4)\n",
    "model2.fit(X1_train, y1_train)\n",
    "predictions = model2.predict(X1_test)\n",
    "tauxrecoknn.append(1 - model2.score(X_test, y_test))"
   ]
  },
  {
   "cell_type": "code",
   "execution_count": 38,
   "id": "6f794f13",
   "metadata": {},
   "outputs": [],
   "source": [
    "#pour k = 5\n",
    "model3 = neighbors.KNeighborsClassifier(n_neighbors=5)\n",
    "model3.fit(X1_train, y1_train)\n",
    "predictions = model3.predict(X1_test)\n",
    "tauxrecoknn.append(1 - model3.score(X_test, y_test))"
   ]
  },
  {
   "cell_type": "code",
   "execution_count": 39,
   "id": "d576391d",
   "metadata": {},
   "outputs": [],
   "source": [
    "#pour k = 6\n",
    "model4 = neighbors.KNeighborsClassifier(n_neighbors=6)\n",
    "model4.fit(X1_train, y1_train)\n",
    "predictions = model4.predict(X1_test)\n",
    "tauxrecoknn.append(1 - model4.score(X_test, y_test))"
   ]
  },
  {
   "cell_type": "code",
   "execution_count": 40,
   "id": "09cf8ece",
   "metadata": {},
   "outputs": [],
   "source": [
    "#pour k = 2\n",
    "model5 = neighbors.KNeighborsClassifier(n_neighbors=2)\n",
    "model5.fit(X1_train, y1_train)\n",
    "predictions = model5.predict(X1_test)\n",
    "tauxrecoknn.append(1 - model5.score(X_test, y_test))"
   ]
  },
  {
   "cell_type": "code",
   "execution_count": 41,
   "id": "48bc907c",
   "metadata": {},
   "outputs": [
    {
     "name": "stdout",
     "output_type": "stream",
     "text": [
      "   k  accuracy\n",
      "0  3  0.977778\n",
      "1  4  0.953704\n",
      "2  5  0.914815\n",
      "3  6  0.892593\n",
      "4  2  0.988889\n"
     ]
    }
   ],
   "source": [
    "#on fait correspondre les valeurs de k aux valeurs d'accuracy\n",
    "y0 = tauxrecoknn\n",
    "x0 = [3, 4, 5, 6, 2]\n",
    "df = pd.DataFrame(list(zip(x0,y0)), columns = ['k','accuracy'])\n",
    "print(df)"
   ]
  },
  {
   "cell_type": "code",
   "execution_count": 47,
   "id": "afc3588a",
   "metadata": {},
   "outputs": [
    {
     "data": {
      "text/plain": [
       "k           4.000000\n",
       "accuracy    0.945556\n",
       "dtype: float64"
      ]
     },
     "execution_count": 47,
     "metadata": {},
     "output_type": "execute_result"
    }
   ],
   "source": [
    "#on calcule la moyenne du taux et sa valeur k correspondante\n",
    "np.mean(df)"
   ]
  },
  {
   "cell_type": "code",
   "execution_count": 48,
   "id": "49f26ee4",
   "metadata": {},
   "outputs": [
    {
     "data": {
      "text/plain": [
       "k           2.000000\n",
       "accuracy    0.001347\n",
       "dtype: float64"
      ]
     },
     "execution_count": 48,
     "metadata": {},
     "output_type": "execute_result"
    }
   ],
   "source": [
    "#on calcule la variance du taux et sa valeur k correspondante\n",
    "np.var(df)"
   ]
  },
  {
   "cell_type": "code",
   "execution_count": 61,
   "id": "1df2df52",
   "metadata": {},
   "outputs": [
    {
     "data": {
      "text/plain": [
       "[<matplotlib.lines.Line2D at 0x2990c02d850>]"
      ]
     },
     "execution_count": 61,
     "metadata": {},
     "output_type": "execute_result"
    },
    {
     "data": {
      "image/png": "[encoded data removed]",
      "text/plain": [
       "<Figure size 432x288 with 1 Axes>"
      ]
     },
     "metadata": {},
     "output_type": "display_data"
    }
   ],
   "source": [
    "#on trace \n",
    "\n",
    "import seaborn as sns\n",
    "import pandas as pd\n",
    "import numpy as np\n",
    "import matplotlib\n",
    "from matplotlib import pyplot as plt\n",
    "\n",
    "sns.set_style(\"darkgrid\")\n",
    "sns.lineplot(data = df, x = \"k\", y = \"accuracy\")\n",
    "\n",
    "mean = np.mean(df)\n",
    "var = np.var(df)\n",
    "\n",
    "#on affiche la moyenne\n",
    "plt.plot(4,0.945556, marker=\"o\", color=\"red\")\n",
    "\n",
    "plt\n"
   ]
  },
  {
   "cell_type": "code",
   "execution_count": null,
   "id": "bca8c5e1",
   "metadata": {},
   "outputs": [],
   "source": []
  }
 ],
 "metadata": {
  "kernelspec": {
   "display_name": "Python 3",
   "language": "python",
   "name": "python3"
  },
  "language_info": {
   "codemirror_mode": {
    "name": "ipython",
    "version": 3
   },
   "file_extension": ".py",
   "mimetype": "text/x-python",
   "name": "python",
   "nbconvert_exporter": "python",
   "pygments_lexer": "ipython3",
   "version": "3.8.8"
  }
 },
 "nbformat": 4,
 "nbformat_minor": 5
}
